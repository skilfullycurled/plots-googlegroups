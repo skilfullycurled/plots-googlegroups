{
 "cells": [
  {
   "cell_type": "code",
   "execution_count": 2,
   "metadata": {
    "collapsed": true
   },
   "outputs": [],
   "source": [
    "from mailbox import mbox\n",
    "import pandas as pd\n",
    "import os, sys\n",
    "import pytz\n",
    "import time"
   ]
  },
  {
   "cell_type": "code",
   "execution_count": 3,
   "metadata": {
    "collapsed": false
   },
   "outputs": [
    {
     "data": {
      "text/html": [
       "<div>\n",
       "<table border=\"1\" class=\"dataframe\">\n",
       "  <thead>\n",
       "    <tr style=\"text-align: right;\">\n",
       "      <th></th>\n",
       "      <th>fid</th>\n",
       "      <th>tid</th>\n",
       "      <th>mid</th>\n",
       "      <th>pos</th>\n",
       "      <th>date</th>\n",
       "      <th>from</th>\n",
       "      <th>to</th>\n",
       "      <th>cc</th>\n",
       "      <th>bcc</th>\n",
       "      <th>subject</th>\n",
       "      <th>body</th>\n",
       "    </tr>\n",
       "  </thead>\n",
       "  <tbody>\n",
       "    <tr>\n",
       "      <th>0</th>\n",
       "      <td>plots-dev</td>\n",
       "      <td>-F-4IslRyN0</td>\n",
       "      <td>sl6C1D7McdkJ</td>\n",
       "      <td>0</td>\n",
       "      <td>2015-05-13 21:00:28</td>\n",
       "      <td>shannon@publiclab.org</td>\n",
       "      <td>\"shannon@publiclab.org\" &lt;shannon@publiclab.org&gt;</td>\n",
       "      <td>None</td>\n",
       "      <td>everyone@publiclab.org</td>\n",
       "      <td>Applications open for Public Lab Sprint Fellow...</td>\n",
       "      <td>Hi everyone,\\n\\nWe're excited to announce the ...</td>\n",
       "    </tr>\n",
       "    <tr>\n",
       "      <th>1</th>\n",
       "      <td>plots-dev</td>\n",
       "      <td>-G0rClsP4go</td>\n",
       "      <td>yURRQwf0CAAJ</td>\n",
       "      <td>0</td>\n",
       "      <td>2017-05-31 19:59:44</td>\n",
       "      <td>liz@publiclab.org</td>\n",
       "      <td>\"plots-dev@googlegroups.com\" &lt;plots-dev@google...</td>\n",
       "      <td>\"Benj. N. Sugar\" &lt;bsugar@crld.in&gt;</td>\n",
       "      <td>None</td>\n",
       "      <td>Scraping a member list out of a googlegroup?</td>\n",
       "      <td>hi folks,\\nSo, some good news that also comes ...</td>\n",
       "    </tr>\n",
       "    <tr>\n",
       "      <th>2</th>\n",
       "      <td>plots-dev</td>\n",
       "      <td>-G0rClsP4go</td>\n",
       "      <td>pCwKdCkuCQAJ</td>\n",
       "      <td>1</td>\n",
       "      <td>2017-06-01 13:45:00</td>\n",
       "      <td>bsugar@crld.in</td>\n",
       "      <td>Liz Barry &lt;liz@publiclab.org&gt;</td>\n",
       "      <td>\"plots-dev@googlegroups.com\" &lt;plots-dev@google...</td>\n",
       "      <td>None</td>\n",
       "      <td>Re: Scraping a member list out of a googlegroup?</td>\n",
       "      <td>&gt;From the GG side, I'll look into it but I dou...</td>\n",
       "    </tr>\n",
       "    <tr>\n",
       "      <th>3</th>\n",
       "      <td>plots-dev</td>\n",
       "      <td>-G0rClsP4go</td>\n",
       "      <td>YHEHJSI4CQAJ</td>\n",
       "      <td>2</td>\n",
       "      <td>2017-06-01 16:47:47</td>\n",
       "      <td>jeff@publiclab.org</td>\n",
       "      <td>\"Benjamin N. Sugar\" &lt;bsugar@crld.in&gt;</td>\n",
       "      <td>Liz Barry &lt;liz@publiclab.org&gt;,\\n\\t\"plots-dev@g...</td>\n",
       "      <td>None</td>\n",
       "      <td>Re: [plots-dev] Re: Scraping a member list out...</td>\n",
       "      <td>I think there may be a way via their various A...</td>\n",
       "    </tr>\n",
       "    <tr>\n",
       "      <th>4</th>\n",
       "      <td>plots-dev</td>\n",
       "      <td>-G0rClsP4go</td>\n",
       "      <td>5MfnETM4CQAJ</td>\n",
       "      <td>3</td>\n",
       "      <td>2017-06-01 16:49:00</td>\n",
       "      <td>jeff@publiclab.org</td>\n",
       "      <td>\"Benjamin N. Sugar\" &lt;bsugar@crld.in&gt;</td>\n",
       "      <td>Liz Barry &lt;liz@publiclab.org&gt;,\\n\\t\"plots-dev@g...</td>\n",
       "      <td>None</td>\n",
       "      <td>Re: [plots-dev] Re: Scraping a member list out...</td>\n",
       "      <td>possibly via\\nhttps://developers.google.com/ad...</td>\n",
       "    </tr>\n",
       "  </tbody>\n",
       "</table>\n",
       "</div>"
      ],
      "text/plain": [
       "         fid          tid           mid  pos                date  \\\n",
       "0  plots-dev  -F-4IslRyN0  sl6C1D7McdkJ    0 2015-05-13 21:00:28   \n",
       "1  plots-dev  -G0rClsP4go  yURRQwf0CAAJ    0 2017-05-31 19:59:44   \n",
       "2  plots-dev  -G0rClsP4go  pCwKdCkuCQAJ    1 2017-06-01 13:45:00   \n",
       "3  plots-dev  -G0rClsP4go  YHEHJSI4CQAJ    2 2017-06-01 16:47:47   \n",
       "4  plots-dev  -G0rClsP4go  5MfnETM4CQAJ    3 2017-06-01 16:49:00   \n",
       "\n",
       "                    from                                                 to  \\\n",
       "0  shannon@publiclab.org    \"shannon@publiclab.org\" <shannon@publiclab.org>   \n",
       "1      liz@publiclab.org  \"plots-dev@googlegroups.com\" <plots-dev@google...   \n",
       "2         bsugar@crld.in                      Liz Barry <liz@publiclab.org>   \n",
       "3     jeff@publiclab.org               \"Benjamin N. Sugar\" <bsugar@crld.in>   \n",
       "4     jeff@publiclab.org               \"Benjamin N. Sugar\" <bsugar@crld.in>   \n",
       "\n",
       "                                                  cc                     bcc  \\\n",
       "0                                               None  everyone@publiclab.org   \n",
       "1                  \"Benj. N. Sugar\" <bsugar@crld.in>                    None   \n",
       "2  \"plots-dev@googlegroups.com\" <plots-dev@google...                    None   \n",
       "3  Liz Barry <liz@publiclab.org>,\\n\\t\"plots-dev@g...                    None   \n",
       "4  Liz Barry <liz@publiclab.org>,\\n\\t\"plots-dev@g...                    None   \n",
       "\n",
       "                                             subject  \\\n",
       "0  Applications open for Public Lab Sprint Fellow...   \n",
       "1       Scraping a member list out of a googlegroup?   \n",
       "2   Re: Scraping a member list out of a googlegroup?   \n",
       "3  Re: [plots-dev] Re: Scraping a member list out...   \n",
       "4  Re: [plots-dev] Re: Scraping a member list out...   \n",
       "\n",
       "                                                body  \n",
       "0  Hi everyone,\\n\\nWe're excited to announce the ...  \n",
       "1  hi folks,\\nSo, some good news that also comes ...  \n",
       "2  >From the GG side, I'll look into it but I dou...  \n",
       "3  I think there may be a way via their various A...  \n",
       "4  possibly via\\nhttps://developers.google.com/ad...  "
      ]
     },
     "execution_count": 3,
     "metadata": {},
     "output_type": "execute_result"
    }
   ],
   "source": [
    "plots_dev = pd.read_csv('../data/posts/' + 'plots-dev' + '-posts.csv', parse_dates=['date'], infer_datetime_format=True)\n",
    "plots_dev.head()"
   ]
  },
  {
   "cell_type": "code",
   "execution_count": 10,
   "metadata": {
    "collapsed": false
   },
   "outputs": [
    {
     "data": {
      "text/html": [
       "<div>\n",
       "<table border=\"1\" class=\"dataframe\">\n",
       "  <thead>\n",
       "    <tr style=\"text-align: right;\">\n",
       "      <th></th>\n",
       "      <th>user</th>\n",
       "      <th>posts</th>\n",
       "      <th>op</th>\n",
       "      <th>replies</th>\n",
       "    </tr>\n",
       "  </thead>\n",
       "  <tbody>\n",
       "    <tr>\n",
       "      <th>0</th>\n",
       "      <td>shannon@publiclab.org</td>\n",
       "      <td>36</td>\n",
       "      <td>34</td>\n",
       "      <td>2</td>\n",
       "    </tr>\n",
       "    <tr>\n",
       "      <th>1</th>\n",
       "      <td>liz@publiclab.org</td>\n",
       "      <td>118</td>\n",
       "      <td>47</td>\n",
       "      <td>71</td>\n",
       "    </tr>\n",
       "    <tr>\n",
       "      <th>2</th>\n",
       "      <td>bsugar@crld.in</td>\n",
       "      <td>5</td>\n",
       "      <td>0</td>\n",
       "      <td>5</td>\n",
       "    </tr>\n",
       "    <tr>\n",
       "      <th>3</th>\n",
       "      <td>jeff@publiclab.org</td>\n",
       "      <td>745</td>\n",
       "      <td>258</td>\n",
       "      <td>487</td>\n",
       "    </tr>\n",
       "    <tr>\n",
       "      <th>4</th>\n",
       "      <td>btbonval@gmail.com</td>\n",
       "      <td>112</td>\n",
       "      <td>12</td>\n",
       "      <td>100</td>\n",
       "    </tr>\n",
       "  </tbody>\n",
       "</table>\n",
       "</div>"
      ],
      "text/plain": [
       "                    user  posts   op  replies\n",
       "0  shannon@publiclab.org     36   34        2\n",
       "1      liz@publiclab.org    118   47       71\n",
       "2         bsugar@crld.in      5    0        5\n",
       "3     jeff@publiclab.org    745  258      487\n",
       "4     btbonval@gmail.com    112   12      100"
      ]
     },
     "execution_count": 10,
     "metadata": {},
     "output_type": "execute_result"
    }
   ],
   "source": [
    "members = pd.DataFrame(plots_dev['from'].unique(), columns=['user'])\n",
    "members['posts'] = members['user'].apply(get_total_posts)\n",
    "members['op'] = members['user'].apply(get_op_count)\n",
    "members['replies'] = members['posts'] - members['op']\n",
    "\n",
    "members.head()"
   ]
  },
  {
   "cell_type": "code",
   "execution_count": 5,
   "metadata": {
    "collapsed": true
   },
   "outputs": [],
   "source": [
    "def get_op_count(user):\n",
    "    \n",
    "    which_user = plots_dev['from'] == user\n",
    "    which_position = plots_dev['pos'] == 0\n",
    "\n",
    "    return plots_dev[(which_user & which_position)].count()[0]"
   ]
  },
  {
   "cell_type": "code",
   "execution_count": 6,
   "metadata": {
    "collapsed": true
   },
   "outputs": [],
   "source": [
    "def get_total_posts(user):\n",
    "    \n",
    "    which_user = plots_dev['from'] == user\n",
    "    \n",
    "    return plots_dev[(which_user)].count()[0]"
   ]
  },
  {
   "cell_type": "code",
   "execution_count": 554,
   "metadata": {
    "collapsed": false
   },
   "outputs": [
    {
     "data": {
      "text/plain": [
       "118"
      ]
     },
     "execution_count": 554,
     "metadata": {},
     "output_type": "execute_result"
    }
   ],
   "source": [
    "user = plots_dev['from'] == 'liz@publiclab.org'\n",
    "position = plots_dev['pos'] == 0\n",
    "\n",
    "plots_dev[(user)].count()[0]\n",
    "# plots_dev[plots_dev['from'] == 'liz@publiclab.org'].head()"
   ]
  }
 ],
 "metadata": {
  "kernelspec": {
   "display_name": "Python 2",
   "language": "python",
   "name": "python2"
  },
  "language_info": {
   "codemirror_mode": {
    "name": "ipython",
    "version": 2
   },
   "file_extension": ".py",
   "mimetype": "text/x-python",
   "name": "python",
   "nbconvert_exporter": "python",
   "pygments_lexer": "ipython2",
   "version": "2.7.13"
  }
 },
 "nbformat": 4,
 "nbformat_minor": 2
}
