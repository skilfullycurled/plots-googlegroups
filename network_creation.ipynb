{
 "cells": [
  {
   "cell_type": "code",
   "execution_count": 2,
   "metadata": {
    "collapsed": true
   },
   "outputs": [],
   "source": [
    "from mailbox import mbox\n",
    "import pandas as pd\n",
    "import os, sys\n",
    "import pytz\n",
    "import time"
   ]
  },
  {
   "cell_type": "markdown",
   "metadata": {},
   "source": [
    "### Create full edgelist"
   ]
  },
  {
   "cell_type": "code",
   "execution_count": 17,
   "metadata": {
    "collapsed": false
   },
   "outputs": [],
   "source": [
    "googlegroups = [group.split('.')[0] for group in os.listdir('../data/mbox/')]\n",
    "\n",
    "gg_dfs = []\n",
    "\n",
    "for group in googlegroups:\n",
    "    \n",
    "    gg_df = pd.read_csv('../data/edges/' + group + '-edges.csv')\n",
    "    gg_dfs.append(gg_sf)\n",
    "\n",
    "gg_edgelist = pd.concat(gg_dfs)\n",
    "\n",
    "gg_edgelist.to_csv('../date/plots_edgelist.csv')"
   ]
  },
  {
   "cell_type": "markdown",
   "metadata": {},
   "source": [
    "### Create graph from edgelist"
   ]
  },
  {
   "cell_type": "code",
   "execution_count": null,
   "metadata": {
    "collapsed": true
   },
   "outputs": [],
   "source": [
    "reader = csv.DictReader('../date/plots_edgelist.csv')\n",
    "g = Graph.DictList(edges=reader, directed=True, edge_foreign_keys=('source','target'), vertices=None)\n",
    "g.es['weight'] = 1\n",
    "g.simplify(combine_edges={'weight':'sum'})"
   ]
  },
  {
   "cell_type": "markdown",
   "metadata": {},
   "source": [
    "### Calculate vertex attributes"
   ]
  },
  {
   "cell_type": "code",
   "execution_count": null,
   "metadata": {
    "collapsed": true
   },
   "outputs": [],
   "source": [
    "g.vs['degree'] = g.degree()\n",
    "g.vs['in'] = g.indegree()\n",
    "g.vs['out'] = g.outdegree()\n",
    "g.vs['core'] = g.coreness()\n",
    "g.vs['core-in'] = g.coreness(mode=IN)\n",
    "g.vs['core-out'] = g.coreness(mode=OUT)\n",
    "g.vs['closeness'] = g.closeness(weights='weight')\n",
    "g.vs['betweenness'] = g.betweenness(weights='weight')\n",
    "g.vs['clustering_coef'] = g.transitivity_local_undirected(weights='weight')\n",
    "g.vs['eigen_centrality'] = g.eigenvector_centrality(weights='weight')\n",
    "g.vs['avg_neighborhood'] = g.knn(weights='weight')[0]\n",
    "g.vs['neighborhood'] = g.neighborhood_size()\n",
    "g.vs['pagerank'] = g.pagerank(weights='weight')\n",
    "g.vs['hub'] = g.hub_score(weights='weight')\n",
    "g.vs['authority'] = g.authority_score(weights='weights')"
   ]
  },
  {
   "cell_type": "markdown",
   "metadata": {},
   "source": [
    "### Export vertex attributes"
   ]
  },
  {
   "cell_type": "code",
   "execution_count": null,
   "metadata": {
    "collapsed": true
   },
   "outputs": [],
   "source": [
    "import csv\n",
    "\n",
    "with open('vertex_attributes.csv', 'w') as csvfile:\n",
    "    fieldnames = g.vertex_attributes()\n",
    "    writer = csv.DictWriter(csvfile, fieldnames=fieldnames)\n",
    "    writer.writeheader()\n",
    "    \n",
    "    for v in g.vs:\n",
    "        vs_attrs = v.attributes()\n",
    "        writer.writerow(vs_attrs)"
   ]
  }
 ],
 "metadata": {
  "kernelspec": {
   "display_name": "Python 2",
   "language": "python",
   "name": "python2"
  },
  "language_info": {
   "codemirror_mode": {
    "name": "ipython",
    "version": 2
   },
   "file_extension": ".py",
   "mimetype": "text/x-python",
   "name": "python",
   "nbconvert_exporter": "python",
   "pygments_lexer": "ipython2",
   "version": "2.7.13"
  }
 },
 "nbformat": 4,
 "nbformat_minor": 2
}
