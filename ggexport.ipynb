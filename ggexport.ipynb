{
 "cells": [
  {
   "cell_type": "code",
   "execution_count": 5,
   "metadata": {
    "collapsed": false
   },
   "outputs": [
    {
     "name": "stdout",
     "output_type": "stream",
     "text": [
      "3.6.2 |Continuum Analytics, Inc.| (default, Jul 20 2017, 13:51:32) \n",
      "[GCC 4.4.7 20120313 (Red Hat 4.4.7-1)]\n"
     ]
    }
   ],
   "source": [
    "import sys\n",
    "print(sys.version)"
   ]
  },
  {
   "cell_type": "code",
   "execution_count": 53,
   "metadata": {
    "collapsed": false
   },
   "outputs": [],
   "source": [
    "from googlegroupexporter.cli import arguments, verbosity, export_with_progress\n",
    "from googlegroupexporter.exporters import CsvExporter, MailExporter\n",
    "from googlegroupexporter.session import session_factory\n",
    "\n",
    "from types import SimpleNamespace"
   ]
  },
  {
   "cell_type": "code",
   "execution_count": 61,
   "metadata": {
    "collapsed": false
   },
   "outputs": [],
   "source": [
    "data_dir = 'data/'\n",
    "\n",
    "# you only need the cookie for private groups\n",
    "with open(data_dir + 'ggcreds.txt') as f:\n",
    "    cookie = f.read().splitlines()[0] # we only need the first line in this case\n",
    "    \n",
    "# print(cookie)\n",
    "# # 'SID=6QQE1nPtLxNmQwlIoZVO...WIYhFIRcQMWt0CqVl'\n",
    "\n",
    "with open(data_dir + 'lists.txt') as f:\n",
    "    lists = f.read().splitlines()\n",
    "    \n",
    "# print(lists)\n",
    "# # ['publiclaboratory', 'plots-spectrometry',...'grassrootsmapping', 'plots-infrared']\n",
    "\n",
    "\n",
    "# all of these are probably not neccessary due to many of them being defaults but that's an expirement for another day\n",
    "kwargs = {'verbose' : 1, 'cookies' : cookie, 'workers' : 10, \n",
    "           'cache_dir' : 'webcache', 'cache_days' : 7, \n",
    "           'cache_forever' : False, 'mode' : 'mbox-or-csv', 'group' : 'your-group-here'} \n",
    "\n",
    "# since I am using a list of groups, I will fill in my own options.group but if you wanted to follow the code exactly\n",
    "# you would put your group in the space that says 'your-group-here'  similarly for 'mode' i'm just going to fill it in\n",
    "# directly\n",
    "\n",
    "options = SimpleNamespace(**kwargs)\n",
    "\n",
    "session = session_factory(\n",
    "        options.cookies, options.workers,\n",
    "        options.cache_dir, options.cache_days, options.cache_forever)"
   ]
  },
  {
   "cell_type": "code",
   "execution_count": 57,
   "metadata": {
    "collapsed": false
   },
   "outputs": [],
   "source": [
    "# # MBOX\n",
    "Exporter = dict(csv=CsvExporter, mbox=MailExporter)['mbox'] # <-- or options.mode\n",
    "\n",
    "for group in lists:\n",
    "    \n",
    "    try:\n",
    "    \n",
    "        options.group = group\n",
    "\n",
    "        export_with_progress(Exporter(session), options.group)\n",
    "        \n",
    "    except Exception as err:\n",
    "        \n",
    "        print('SAD EMOTICON FACE: {0}'.format(err))\n",
    "        \n",
    "# # For as many groups as you have...\n",
    "\n",
    "# # [04:25] 8389 downloads from 8389 requests\n",
    "# # 0it [00:00, ?it/s]\n",
    "\n",
    "# # 22 index pages listing 2152 topics with 6079 messages."
   ]
  },
  {
   "cell_type": "code",
   "execution_count": 63,
   "metadata": {
    "collapsed": false
   },
   "outputs": [],
   "source": [
    "# # CSV\n",
    "# # As an aside, this takes much less time because it is only scraping the index page\n",
    "\n",
    "Exporter = dict(csv=CsvExporter, mbox=MailExporter)['csv'] # <-- or options.mode\n",
    "\n",
    "for group in lists:\n",
    "    \n",
    "    try:\n",
    "    \n",
    "        print('Retreiving entries for {0}'.format(group))  # <-- or options.group\n",
    "\n",
    "        export_with_progress(Exporter(session), group)\n",
    "        \n",
    "        print('')\n",
    "        \n",
    "    except Exception as err:\n",
    "        \n",
    "        print('SAD EMOTICON FACE: {0}'.format(err))\n",
    "        \n",
    "# # For as many groups as you have...\n",
    "\n",
    "# # Retreiving entries for publiclaboratory\n",
    "\n",
    "# # [00:10] 2175 downloads from 2175 requests\n",
    "# # [00:00] 2189 downloads from 2277 requests\n",
    "\n",
    "# # 2150 topics listed."
   ]
  },
  {
   "cell_type": "code",
   "execution_count": null,
   "metadata": {
    "collapsed": true
   },
   "outputs": [],
   "source": []
  }
 ],
 "metadata": {
  "kernelspec": {
   "display_name": "Python 3",
   "language": "python",
   "name": "python3"
  },
  "language_info": {
   "codemirror_mode": {
    "name": "ipython",
    "version": 3
   },
   "file_extension": ".py",
   "mimetype": "text/x-python",
   "name": "python",
   "nbconvert_exporter": "python",
   "pygments_lexer": "ipython3",
   "version": "3.6.2"
  }
 },
 "nbformat": 4,
 "nbformat_minor": 2
}
