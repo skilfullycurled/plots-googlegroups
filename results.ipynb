{
 "cells": [
  {
   "cell_type": "code",
   "execution_count": 350,
   "metadata": {
    "collapsed": true
   },
   "outputs": [],
   "source": [
    "import pandas as pd\n",
    "import os, sys\n",
    "from collections import defaultdict\n",
    "import numpy as np\n",
    "from sklearn.svm import LinearSVC\n",
    "from sklearn import preprocessing\n",
    "\n",
    "%matplotlib inline\n",
    "import matplotlib.pyplot as plt\n",
    "plt.style.use('ggplot')"
   ]
  },
  {
   "cell_type": "code",
   "execution_count": 415,
   "metadata": {
    "collapsed": false
   },
   "outputs": [
    {
     "data": {
      "text/plain": [
       "(1646, 16)"
      ]
     },
     "execution_count": 415,
     "metadata": {},
     "output_type": "execute_result"
    }
   ],
   "source": [
    "network = pd.read_csv('../data/network/vertex_attributes.csv')\n",
    "\n",
    "network.shape"
   ]
  },
  {
   "cell_type": "markdown",
   "metadata": {},
   "source": [
    "### Load Vertex Properties"
   ]
  },
  {
   "cell_type": "code",
   "execution_count": 418,
   "metadata": {
    "collapsed": false
   },
   "outputs": [],
   "source": [
    "cols = [u'name', u'degree',  u'in', u'out', u'core', u'core-in', u'core-out', u'closeness', u'betweenness', u'eigen_centrality', u'pagerank', u'neighborhood', u'avg_neighborhood', u'authority', u'hub', u'clustering_coef']\n",
    "network = network[cols]\n",
    "network['name'] = network['name'].astype(str)\n",
    "network['percent-out'] = network['out'].div(network['degree'])\n",
    "# # network['name'] = [col.split('@')[0] for col in network['name']]\n",
    "# network.head()"
   ]
  },
  {
   "cell_type": "markdown",
   "metadata": {},
   "source": [
    "### Global Network Measures"
   ]
  },
  {
   "cell_type": "code",
   "execution_count": null,
   "metadata": {
    "collapsed": true
   },
   "outputs": [],
   "source": [
    "VERTICES: 1646 \n",
    "EDGES: 4924\n",
    "GLOBAL CC 0.0418348603048\n",
    "AVG PATH LENGTH 2.74013916003\n",
    "CLIQUES 138340\n",
    "CLIQUE NO 14\n",
    "DIAMETER 22.0\n",
    "RECIPROCITY 0.245735174655\n",
    "LARGEST CLUSTER SIZE 378 Vertices, 2708 Edges\n",
    "\n",
    "ONLY ASKED QUETIONS: 464\n",
    "ONLY ANSWER ANSWERED: 764\n",
    "ASKED AND ANSWER: 415"
   ]
  },
  {
   "cell_type": "code",
   "execution_count": 423,
   "metadata": {
    "collapsed": false
   },
   "outputs": [
    {
     "name": "stdout",
     "output_type": "stream",
     "text": [
      "                       mean         std     min          max\n",
      "degree               5.9830     30.6500  0.0000     895.0000\n",
      "in                   2.9915     15.3362  0.0000     417.0000\n",
      "out                  2.9915     15.7134  0.0000     478.0000\n",
      "core                 3.1422      3.9024  0.0000      23.0000\n",
      "core-in              1.3621      2.1560  0.0000      12.0000\n",
      "core-out             1.4216      1.9871  0.0000      10.0000\n",
      "closeness            0.0492      0.0054  0.0006       0.0537\n",
      "betweenness       1349.3092  12844.0691  0.0000  383864.1714\n",
      "eigen_centrality     0.0050      0.0368  0.0000       1.0000\n",
      "pagerank             0.0006      0.0043  0.0002       0.1336\n",
      "neighborhood         6.2479     24.9207  1.0000     727.0000\n",
      "avg_neighborhood  1431.9329   1726.0096  1.0000    5802.0000\n",
      "authority            0.0029      0.0291  0.0000       1.0000\n",
      "hub                  0.0070      0.0421  0.0000       1.0000\n",
      "clustering_coef      0.9397      0.6718  0.0000       2.0000\n"
     ]
    }
   ],
   "source": [
    "cols = [u'name', u'degree',  u'in', u'out', u'core', u'core-in', u'core-out', u'closeness', u'betweenness', u'eigen_centrality', u'pagerank', u'neighborhood', u'avg_neighborhood', u'authority', u'hub', u'clustering_coef']\n",
    "network = network[cols]\n",
    "network.apply(pd.to_numeric, errors='ignore')\n",
    "print network.describe().round(4).loc[['mean', 'std', 'min', 'max']].T"
   ]
  },
  {
   "cell_type": "code",
   "execution_count": 412,
   "metadata": {
    "collapsed": false
   },
   "outputs": [
    {
     "data": {
      "image/png": "[encoded data removed]",
      "text/plain": [
       "<matplotlib.figure.Figure at 0x7f60b41a1590>"
      ]
     },
     "metadata": {},
     "output_type": "display_data"
    }
   ],
   "source": [
    "plotDegreeDistribution(network['degree'])"
   ]
  },
  {
   "cell_type": "code",
   "execution_count": 421,
   "metadata": {
    "collapsed": false
   },
   "outputs": [
    {
     "name": "stdout",
     "output_type": "stream",
     "text": [
      "ONLY ASK: 464\n",
      "ONLY ANSWER: 764\n",
      "ASK AND ANSWER: 415\n"
     ]
    }
   ],
   "source": [
    "only_in = network['in'] > 0\n",
    "no_out = network['out'] == 0\n",
    "\n",
    "only_out = network['out'] > 0\n",
    "no_in = network['in'] == 0\n",
    "\n",
    "ask = network['in'] > 0\n",
    "answer = network['out'] > 0\n",
    "\n",
    "only_ask = network[(only_in & no_out)]\n",
    "only_answer = network[(only_out & no_in)]\n",
    "ask_answer = network[(ask & answer)]\n",
    "\n",
    "print \"ONLY ASK:\", only_ask.shape[0]\n",
    "print \"ONLY ANSWER:\", only_answer.shape[0]\n",
    "print \"ASK AND ANSWER:\", ask_answer.shape[0]"
   ]
  },
  {
   "cell_type": "code",
   "execution_count": 425,
   "metadata": {
    "collapsed": false
   },
   "outputs": [
    {
     "data": {
      "text/html": [
       "<div>\n",
       "<table border=\"1\" class=\"dataframe\">\n",
       "  <thead>\n",
       "    <tr style=\"text-align: right;\">\n",
       "      <th></th>\n",
       "      <th>degree</th>\n",
       "      <th>in</th>\n",
       "      <th>out</th>\n",
       "      <th>core</th>\n",
       "      <th>core-in</th>\n",
       "      <th>core-out</th>\n",
       "      <th>closeness</th>\n",
       "      <th>betweenness</th>\n",
       "      <th>eigen_centrality</th>\n",
       "      <th>pagerank</th>\n",
       "      <th>neighborhood</th>\n",
       "      <th>avg_neighborhood</th>\n",
       "      <th>authority</th>\n",
       "      <th>hub</th>\n",
       "      <th>clustering_coef</th>\n",
       "      <th>percent-out</th>\n",
       "    </tr>\n",
       "  </thead>\n",
       "  <tbody>\n",
       "    <tr>\n",
       "      <th>count</th>\n",
       "      <td>415.000000</td>\n",
       "      <td>415.000000</td>\n",
       "      <td>415.000000</td>\n",
       "      <td>415.000000</td>\n",
       "      <td>415.000000</td>\n",
       "      <td>415.000000</td>\n",
       "      <td>415.000000</td>\n",
       "      <td>415.000000</td>\n",
       "      <td>415.000000</td>\n",
       "      <td>415.000000</td>\n",
       "      <td>415.000000</td>\n",
       "      <td>415.000000</td>\n",
       "      <td>415.000000</td>\n",
       "      <td>415.000000</td>\n",
       "      <td>415.000000</td>\n",
       "      <td>415.000000</td>\n",
       "    </tr>\n",
       "    <tr>\n",
       "      <th>mean</th>\n",
       "      <td>18.110843</td>\n",
       "      <td>9.238554</td>\n",
       "      <td>8.872289</td>\n",
       "      <td>7.431325</td>\n",
       "      <td>3.484337</td>\n",
       "      <td>3.354217</td>\n",
       "      <td>0.050956</td>\n",
       "      <td>5351.717970</td>\n",
       "      <td>0.017010</td>\n",
       "      <td>0.001701</td>\n",
       "      <td>16.195181</td>\n",
       "      <td>937.129489</td>\n",
       "      <td>0.010303</td>\n",
       "      <td>0.023831</td>\n",
       "      <td>0.789293</td>\n",
       "      <td>0.477846</td>\n",
       "    </tr>\n",
       "    <tr>\n",
       "      <th>std</th>\n",
       "      <td>59.363103</td>\n",
       "      <td>29.571145</td>\n",
       "      <td>30.423668</td>\n",
       "      <td>5.586343</td>\n",
       "      <td>3.010308</td>\n",
       "      <td>2.780596</td>\n",
       "      <td>0.001940</td>\n",
       "      <td>25179.866616</td>\n",
       "      <td>0.071883</td>\n",
       "      <td>0.008415</td>\n",
       "      <td>48.202000</td>\n",
       "      <td>967.328948</td>\n",
       "      <td>0.057416</td>\n",
       "      <td>0.081260</td>\n",
       "      <td>0.500671</td>\n",
       "      <td>0.191391</td>\n",
       "    </tr>\n",
       "    <tr>\n",
       "      <th>min</th>\n",
       "      <td>2.000000</td>\n",
       "      <td>1.000000</td>\n",
       "      <td>1.000000</td>\n",
       "      <td>1.000000</td>\n",
       "      <td>0.000000</td>\n",
       "      <td>0.000000</td>\n",
       "      <td>0.039743</td>\n",
       "      <td>0.000000</td>\n",
       "      <td>0.000000</td>\n",
       "      <td>0.000179</td>\n",
       "      <td>2.000000</td>\n",
       "      <td>5.153846</td>\n",
       "      <td>0.000000</td>\n",
       "      <td>0.000000</td>\n",
       "      <td>0.000000</td>\n",
       "      <td>0.071429</td>\n",
       "    </tr>\n",
       "    <tr>\n",
       "      <th>25%</th>\n",
       "      <td>4.000000</td>\n",
       "      <td>2.000000</td>\n",
       "      <td>1.000000</td>\n",
       "      <td>3.000000</td>\n",
       "      <td>1.000000</td>\n",
       "      <td>1.000000</td>\n",
       "      <td>0.050702</td>\n",
       "      <td>126.127228</td>\n",
       "      <td>0.001513</td>\n",
       "      <td>0.000264</td>\n",
       "      <td>4.000000</td>\n",
       "      <td>328.008257</td>\n",
       "      <td>0.000558</td>\n",
       "      <td>0.000780</td>\n",
       "      <td>0.462500</td>\n",
       "      <td>0.333333</td>\n",
       "    </tr>\n",
       "    <tr>\n",
       "      <th>50%</th>\n",
       "      <td>7.000000</td>\n",
       "      <td>3.000000</td>\n",
       "      <td>3.000000</td>\n",
       "      <td>6.000000</td>\n",
       "      <td>2.000000</td>\n",
       "      <td>2.000000</td>\n",
       "      <td>0.051398</td>\n",
       "      <td>1184.741333</td>\n",
       "      <td>0.003494</td>\n",
       "      <td>0.000463</td>\n",
       "      <td>7.000000</td>\n",
       "      <td>621.000000</td>\n",
       "      <td>0.001644</td>\n",
       "      <td>0.004525</td>\n",
       "      <td>0.682540</td>\n",
       "      <td>0.500000</td>\n",
       "    </tr>\n",
       "    <tr>\n",
       "      <th>75%</th>\n",
       "      <td>14.000000</td>\n",
       "      <td>7.000000</td>\n",
       "      <td>7.000000</td>\n",
       "      <td>10.000000</td>\n",
       "      <td>5.000000</td>\n",
       "      <td>5.000000</td>\n",
       "      <td>0.051994</td>\n",
       "      <td>3774.431202</td>\n",
       "      <td>0.008662</td>\n",
       "      <td>0.000920</td>\n",
       "      <td>13.000000</td>\n",
       "      <td>1209.583333</td>\n",
       "      <td>0.004410</td>\n",
       "      <td>0.015133</td>\n",
       "      <td>1.000000</td>\n",
       "      <td>0.600000</td>\n",
       "    </tr>\n",
       "    <tr>\n",
       "      <th>max</th>\n",
       "      <td>895.000000</td>\n",
       "      <td>417.000000</td>\n",
       "      <td>478.000000</td>\n",
       "      <td>23.000000</td>\n",
       "      <td>12.000000</td>\n",
       "      <td>10.000000</td>\n",
       "      <td>0.053660</td>\n",
       "      <td>383864.171442</td>\n",
       "      <td>1.000000</td>\n",
       "      <td>0.133625</td>\n",
       "      <td>727.000000</td>\n",
       "      <td>5802.000000</td>\n",
       "      <td>1.000000</td>\n",
       "      <td>1.000000</td>\n",
       "      <td>2.000000</td>\n",
       "      <td>0.928571</td>\n",
       "    </tr>\n",
       "  </tbody>\n",
       "</table>\n",
       "</div>"
      ],
      "text/plain": [
       "           degree          in         out        core     core-in    core-out  \\\n",
       "count  415.000000  415.000000  415.000000  415.000000  415.000000  415.000000   \n",
       "mean    18.110843    9.238554    8.872289    7.431325    3.484337    3.354217   \n",
       "std     59.363103   29.571145   30.423668    5.586343    3.010308    2.780596   \n",
       "min      2.000000    1.000000    1.000000    1.000000    0.000000    0.000000   \n",
       "25%      4.000000    2.000000    1.000000    3.000000    1.000000    1.000000   \n",
       "50%      7.000000    3.000000    3.000000    6.000000    2.000000    2.000000   \n",
       "75%     14.000000    7.000000    7.000000   10.000000    5.000000    5.000000   \n",
       "max    895.000000  417.000000  478.000000   23.000000   12.000000   10.000000   \n",
       "\n",
       "        closeness    betweenness  eigen_centrality    pagerank  neighborhood  \\\n",
       "count  415.000000     415.000000        415.000000  415.000000    415.000000   \n",
       "mean     0.050956    5351.717970          0.017010    0.001701     16.195181   \n",
       "std      0.001940   25179.866616          0.071883    0.008415     48.202000   \n",
       "min      0.039743       0.000000          0.000000    0.000179      2.000000   \n",
       "25%      0.050702     126.127228          0.001513    0.000264      4.000000   \n",
       "50%      0.051398    1184.741333          0.003494    0.000463      7.000000   \n",
       "75%      0.051994    3774.431202          0.008662    0.000920     13.000000   \n",
       "max      0.053660  383864.171442          1.000000    0.133625    727.000000   \n",
       "\n",
       "       avg_neighborhood   authority         hub  clustering_coef  percent-out  \n",
       "count        415.000000  415.000000  415.000000       415.000000   415.000000  \n",
       "mean         937.129489    0.010303    0.023831         0.789293     0.477846  \n",
       "std          967.328948    0.057416    0.081260         0.500671     0.191391  \n",
       "min            5.153846    0.000000    0.000000         0.000000     0.071429  \n",
       "25%          328.008257    0.000558    0.000780         0.462500     0.333333  \n",
       "50%          621.000000    0.001644    0.004525         0.682540     0.500000  \n",
       "75%         1209.583333    0.004410    0.015133         1.000000     0.600000  \n",
       "max         5802.000000    1.000000    1.000000         2.000000     0.928571  "
      ]
     },
     "execution_count": 425,
     "metadata": {},
     "output_type": "execute_result"
    }
   ],
   "source": [
    "ask_answer.describe()"
   ]
  },
  {
   "cell_type": "code",
   "execution_count": 422,
   "metadata": {
    "collapsed": false
   },
   "outputs": [
    {
     "data": {
      "text/plain": [
       "<matplotlib.axes._subplots.AxesSubplot at 0x7f60b632ffd0>"
      ]
     },
     "execution_count": 422,
     "metadata": {},
     "output_type": "execute_result"
    },
    {
     "data": {
      "image/png": "[encoded data removed]",
      "text/plain": [
       "<matplotlib.figure.Figure at 0x7f60b6508fd0>"
      ]
     },
     "metadata": {},
     "output_type": "display_data"
    }
   ],
   "source": [
    "ask_answer['percent-out'].hist(bins=15)"
   ]
  },
  {
   "cell_type": "code",
   "execution_count": 424,
   "metadata": {
    "collapsed": false
   },
   "outputs": [
    {
     "data": {
      "image/png": "[encoded data removed]",
      "text/plain": [
       "<matplotlib.figure.Figure at 0x7f60b425f710>"
      ]
     },
     "metadata": {},
     "output_type": "display_data"
    }
   ],
   "source": [
    "title = 'Degree Distributions'\n",
    "degrees = network[['degree', 'in', 'out']]\n",
    "degrees.plot(kind='hist', subplots=True, layout=(1,3), title=title, log=True, figsize=(20, 4), bins=45, edgecolor='w')\n",
    "# plt.plot()\n",
    "plt.show()"
   ]
  },
  {
   "cell_type": "markdown",
   "metadata": {},
   "source": [
    "### Add column for whether or not user is in the organizers group"
   ]
  },
  {
   "cell_type": "code",
   "execution_count": 363,
   "metadata": {
    "collapsed": false
   },
   "outputs": [],
   "source": [
    "edges = pd.read_csv('../data/network/plots_edgelist.csv')\n",
    "plots_org = edges[edges['fid'] == 'plots-organizers']\n",
    "organizers = pd.concat([plots_org['source'], plots_org['target']])\n",
    "network['org'] = network['name'].isin(organizers)\n",
    "# network.head()"
   ]
  },
  {
   "cell_type": "markdown",
   "metadata": {},
   "source": [
    "### Filter out those who have only answered or only asked a question"
   ]
  },
  {
   "cell_type": "code",
   "execution_count": 364,
   "metadata": {
    "collapsed": false
   },
   "outputs": [
    {
     "data": {
      "text/plain": [
       "(415, 18)"
      ]
     },
     "execution_count": 364,
     "metadata": {},
     "output_type": "execute_result"
    }
   ],
   "source": [
    "ask = network['in'] > 0\n",
    "answer = network['out'] > 0\n",
    "ask_answer = network[(ask & answer)]\n",
    "ask_answer.shape"
   ]
  },
  {
   "cell_type": "markdown",
   "metadata": {},
   "source": [
    "### Filter out \"active\" users"
   ]
  },
  {
   "cell_type": "code",
   "execution_count": 365,
   "metadata": {
    "collapsed": false
   },
   "outputs": [
    {
     "name": "stdout",
     "output_type": "stream",
     "text": [
      "           degree          in         out\n",
      "count  415.000000  415.000000  415.000000\n",
      "mean    18.110843    9.238554    8.872289\n",
      "std     59.363103   29.571145   30.423668\n",
      "min      2.000000    1.000000    1.000000\n",
      "25%      4.000000    2.000000    1.000000\n",
      "50%      7.000000    3.000000    3.000000\n",
      "75%     14.000000    7.000000    7.000000\n",
      "max    895.000000  417.000000  478.000000\n"
     ]
    },
    {
     "data": {
      "text/plain": [
       "((219, 18), (118, 18), (117, 18))"
      ]
     },
     "execution_count": 365,
     "metadata": {},
     "output_type": "execute_result"
    }
   ],
   "source": [
    "print pd.DataFrame([ask_answer['degree'].describe(), ask_answer['in'].describe(), ask_answer['out'].describe()]).T\n",
    "ask_answer[ask_answer['degree'] >= 7].shape, ask_answer[ask_answer['in'] >= 7].shape, ask_answer[ask_answer['out'] >= 7].shape"
   ]
  },
  {
   "cell_type": "code",
   "execution_count": 366,
   "metadata": {
    "collapsed": false
   },
   "outputs": [
    {
     "data": {
      "text/plain": [
       "(304, 18)"
      ]
     },
     "execution_count": 366,
     "metadata": {},
     "output_type": "execute_result"
    }
   ],
   "source": [
    "include_in = ask_answer['in'] >= 3\n",
    "include_out = ask_answer['out'] >= 3\n",
    "\n",
    "active = ask_answer[(include_in | include_out)]\n",
    "active.shape"
   ]
  },
  {
   "cell_type": "markdown",
   "metadata": {},
   "source": [
    "### Label users as primaraly \"question askers\", \"question answerers\", or \"both\""
   ]
  },
  {
   "cell_type": "code",
   "execution_count": 367,
   "metadata": {
    "collapsed": false
   },
   "outputs": [
    {
     "data": {
      "text/plain": [
       "count    304.000000\n",
       "mean       0.472499\n",
       "std        0.212378\n",
       "min        0.071429\n",
       "33%        0.351912\n",
       "50%        0.467343\n",
       "66%        0.562450\n",
       "max        0.928571\n",
       "Name: percent-out, dtype: float64"
      ]
     },
     "execution_count": 367,
     "metadata": {},
     "output_type": "execute_result"
    }
   ],
   "source": [
    "active['percent-out'].describe(percentiles=[.33, .5, .66])"
   ]
  },
  {
   "cell_type": "code",
   "execution_count": 369,
   "metadata": {
    "collapsed": false
   },
   "outputs": [],
   "source": [
    "active['ans'] = active['percent-out'] > .56\n",
    "active['ask'] = active['percent-out'] < .35\n",
    "active['both'] = (active['ans'] == False) & (active['ask'] == False)"
   ]
  },
  {
   "cell_type": "markdown",
   "metadata": {},
   "source": [
    "### Sepperate features and labels"
   ]
  },
  {
   "cell_type": "code",
   "execution_count": 287,
   "metadata": {
    "collapsed": false
   },
   "outputs": [
    {
     "name": "stdout",
     "output_type": "stream",
     "text": [
      "(304, 16) (304, 4)\n"
     ]
    }
   ],
   "source": [
    "feature_cols = active.columns[1:-4]\n",
    "labels_cols = active.columns[-4:]\n",
    "\n",
    "features = active[feature_cols]\n",
    "labels = active[labels_cols]\n",
    "print features.shape, labels.shape"
   ]
  },
  {
   "cell_type": "markdown",
   "metadata": {},
   "source": [
    "### Normalize the data"
   ]
  },
  {
   "cell_type": "code",
   "execution_count": 300,
   "metadata": {
    "collapsed": false
   },
   "outputs": [],
   "source": [
    "min_max_scaler = preprocessing.MinMaxScaler()\n",
    "feat_scaled = min_max_scaler.fit_transform(features)\n",
    "feat_norm = pd.DataFrame(feat_scaled, columns=features.columns)\n",
    "# feat_norm.head()"
   ]
  },
  {
   "cell_type": "markdown",
   "metadata": {},
   "source": [
    "### LinearSVC for Question Askers"
   ]
  },
  {
   "cell_type": "code",
   "execution_count": 327,
   "metadata": {
    "collapsed": false
   },
   "outputs": [
    {
     "name": "stdout",
     "output_type": "stream",
     "text": [
      "ACCURACY: 0.990131578947\n",
      "\n",
      "                     value\n",
      "closeness         0.889937\n",
      "core              0.538549\n",
      "core-in           0.509686\n",
      "avg_neighborhood  0.347944\n",
      "\n",
      "                     value\n",
      "percent-out      -5.733127\n",
      "core-out         -1.152479\n",
      "out              -0.339523\n",
      "clustering_coef  -0.328290\n",
      "neighborhood     -0.272319\n",
      "degree           -0.269900\n",
      "hub              -0.239677\n",
      "authority        -0.227476\n",
      "eigen_centrality -0.206277\n",
      "in               -0.182784\n",
      "pagerank         -0.171987\n",
      "betweenness      -0.046530\n"
     ]
    }
   ],
   "source": [
    "ask_clf = LinearSVC(random_state=0)\n",
    "ask_clf.fit(feat_norm, labels['ask'])\n",
    "\n",
    "coef = ask_clf.coef_.ravel()\n",
    "\n",
    "importance = pd.DataFrame(coef, index=feat_norm.columns, columns=['value'])#, columns=features.columns)\n",
    "\n",
    "pos_class = importance[importance['value'] > 0]\n",
    "neg_class = importance[importance['value'] < 0]\n",
    "\n",
    "print 'ACCURACY:', ask_clf.score(feat_norm, labels['ask'])\n",
    "print ''\n",
    "print pos_class.sort_values(by='value', ascending=False)\n",
    "print ''\n",
    "print neg_class.sort_values(by='value', ascending=True)"
   ]
  },
  {
   "cell_type": "code",
   "execution_count": 432,
   "metadata": {
    "collapsed": false
   },
   "outputs": [
    {
     "name": "stdout",
     "output_type": "stream",
     "text": [
      "QUESTION ASKERS\n",
      "      closeness     core  core-in  avg_neighborhood\n",
      "mean     0.0513   7.4949   4.5657           27.9417\n",
      "std      0.0015   4.6431   2.5760           22.6952\n",
      "min      0.0431   2.0000   1.0000            0.0000\n",
      "max      0.0531  21.0000  12.0000          100.0000\n",
      "\n",
      "NOT QUESTION ASKERS\n",
      "      closeness     core  core-in  avg_neighborhood\n",
      "mean     0.0511   9.9902   4.2000           21.5235\n",
      "std      0.0021   5.8040   3.3364           16.9184\n",
      "min      0.0413   3.0000   0.0000            0.0000\n",
      "max      0.0537  23.0000  12.0000          100.0000\n",
      "\n",
      "ORIGINALS\n",
      "      closeness     core  core-in  avg_neighborhood\n",
      "mean     0.0512   9.1776   4.3191           21.2857\n",
      "std      0.0019   5.5700   3.1097           17.9683\n",
      "min      0.0413   2.0000   0.0000            0.0000\n",
      "max      0.0537  23.0000  12.0000          100.0000\n"
     ]
    },
    {
     "name": "stderr",
     "output_type": "stream",
     "text": [
      "/home/skilfullycurled/anaconda2/lib/python2.7/site-packages/ipykernel/__main__.py:20: SettingWithCopyWarning: \n",
      "A value is trying to be set on a copy of a slice from a DataFrame.\n",
      "Try using .loc[row_indexer,col_indexer] = value instead\n",
      "\n",
      "See the caveats in the documentation: http://pandas.pydata.org/pandas-docs/stable/indexing.html#indexing-view-versus-copy\n"
     ]
    }
   ],
   "source": [
    "ask_cols = ['closeness', 'core', 'core-in','avg_neighborhood']\n",
    "\n",
    "ask = active[active['ask'] == True]\n",
    "ask = ask[ask_cols]\n",
    "\n",
    "not_ask = active[active['ask'] == False]\n",
    "not_ask = not_ask[ask_cols]\n",
    "\n",
    "ask_total = active[ask_cols]\n",
    "\n",
    "print 'QUESTION ASKERS'\n",
    "ask['avg_neighborhood'] = normalize_column(ask['avg_neighborhood'])\n",
    "print ask.describe().round(4).loc[['mean', 'std', 'min', 'max']]\n",
    "print ''\n",
    "print 'NOT QUESTION ASKERS'\n",
    "not_ask['avg_neighborhood'] = normalize_column(not_ask['avg_neighborhood'])\n",
    "print not_ask.describe().round(4).loc[['mean', 'std', 'min', 'max']]\n",
    "print ''\n",
    "print 'ORIGINALS'\n",
    "ask_total['avg_neighborhood'] = normalize_column(ask_total['avg_neighborhood'])\n",
    "print ask_total.describe().round(4).loc[['mean', 'std', 'min', 'max']]"
   ]
  },
  {
   "cell_type": "markdown",
   "metadata": {},
   "source": [
    "### LinearSVC for Question Answerers"
   ]
  },
  {
   "cell_type": "code",
   "execution_count": 325,
   "metadata": {
    "collapsed": false
   },
   "outputs": [
    {
     "name": "stdout",
     "output_type": "stream",
     "text": [
      "ACCURACY: 0.983552631579\n",
      "\n",
      "                     value\n",
      "percent-out       4.975779\n",
      "core-out          0.728077\n",
      "avg_neighborhood  0.519589\n",
      "hub               0.517840\n",
      "out               0.462426\n",
      "betweenness       0.367190\n",
      "core              0.363058\n",
      "neighborhood      0.224072\n",
      "degree            0.127965\n",
      "\n",
      "                     value\n",
      "core-in          -1.798889\n",
      "pagerank         -0.499532\n",
      "eigen_centrality -0.409230\n",
      "clustering_coef  -0.346752\n",
      "authority        -0.316502\n",
      "in               -0.268493\n",
      "closeness        -0.169403\n"
     ]
    }
   ],
   "source": [
    "ans_clf = LinearSVC(random_state=0)\n",
    "ans_clf.fit(feat_norm, labels['ans'])\n",
    "coef = ans_clf.coef_.ravel()\n",
    "\n",
    "importance = pd.DataFrame(coef, index=feat_norm.columns, columns=['value'])#, columns=features.columns)\n",
    "\n",
    "pos_class = importance[importance['value'] > 0]\n",
    "neg_class = importance[importance['value'] < 0]\n",
    "\n",
    "\n",
    "print 'ACCURACY:', ans_clf.score(feat_norm, labels['ans'])\n",
    "print ''\n",
    "print pos_class.sort_values(by='value', ascending=False)\n",
    "print ''\n",
    "print neg_class.sort_values(by='value', ascending=True)"
   ]
  },
  {
   "cell_type": "code",
   "execution_count": 435,
   "metadata": {
    "collapsed": false
   },
   "outputs": [
    {
     "name": "stdout",
     "output_type": "stream",
     "text": [
      "QUESTION ANSWERERS\n",
      "      pct-out  core-out    avg_ngh     hub       out      btwn     core  \\\n",
      "mean   0.7108    4.9712   627.5113  0.0298   11.6923    5.3388   8.6442   \n",
      "std    0.1077    2.4114   444.1074  0.0751   18.7099   12.7567   4.6840   \n",
      "min    0.5625    1.0000    12.1667  0.0000    3.0000    0.0000   3.0000   \n",
      "max    0.9286   10.0000  2543.6667  0.6239  137.0000  100.0000  23.0000   \n",
      "\n",
      "           ngh       deg  \n",
      "mean   15.8558   17.1346  \n",
      "std    25.2838   29.6589  \n",
      "min     4.0000    4.0000  \n",
      "max   197.0000  229.0000  \n",
      "\n",
      "NOT QUESTION ANSWERERS\n",
      "      pct-out  core-out    avg_ngh     hub       out      btwn     core  \\\n",
      "mean   0.3486    3.7250   664.9196  0.0325   11.5750    2.1301   9.4550   \n",
      "std    0.1326    2.9535   592.9393  0.1023   41.2472    9.1104   5.9713   \n",
      "min    0.0714    0.0000     5.1538  0.0000    1.0000    0.0000   2.0000   \n",
      "max    0.5600   10.0000  3044.6000  1.0000  478.0000  100.0000  23.0000   \n",
      "\n",
      "           ngh       deg  \n",
      "mean   23.4650   27.1350  \n",
      "std    66.0165   81.6214  \n",
      "min     4.0000    4.0000  \n",
      "max   727.0000  895.0000  \n",
      "\n",
      "ORIGINALS\n",
      "      pct-out  core-out    avg_ngh     hub       out      btwn     core  \\\n",
      "mean   0.4725    4.1513   652.1221  0.0315   11.6151    1.8491   9.1776   \n",
      "std    0.2124    2.8384   546.1368  0.0938   35.1621    7.6150   5.5700   \n",
      "min    0.0714    0.0000     5.1538  0.0000    1.0000    0.0000   2.0000   \n",
      "max    0.9286   10.0000  3044.6000  1.0000  478.0000  100.0000  23.0000   \n",
      "\n",
      "           ngh       deg  \n",
      "mean   20.8618   23.7138  \n",
      "std    55.6119   68.5347  \n",
      "min     4.0000    4.0000  \n",
      "max   727.0000  895.0000  \n"
     ]
    },
    {
     "name": "stderr",
     "output_type": "stream",
     "text": [
      "/home/skilfullycurled/anaconda2/lib/python2.7/site-packages/ipykernel/__main__.py:25: SettingWithCopyWarning: \n",
      "A value is trying to be set on a copy of a slice from a DataFrame.\n",
      "Try using .loc[row_indexer,col_indexer] = value instead\n",
      "\n",
      "See the caveats in the documentation: http://pandas.pydata.org/pandas-docs/stable/indexing.html#indexing-view-versus-copy\n"
     ]
    }
   ],
   "source": [
    "ans_cols = ['percent-out', 'core-out', 'avg_neighborhood', 'hub', 'out', 'betweenness', 'core', 'neighborhood', 'degree']\n",
    "\n",
    "ans = active[active['ans'] == True]\n",
    "ans = ans[ans_cols]\n",
    "ans.columns = ['pct-out', 'core-out', 'avg_ngh', 'hub', 'out', 'btwn', 'core', 'ngh', 'deg']\n",
    "\n",
    "not_ans = active[active['ans'] == False]\n",
    "not_ans = not_ans[ans_cols]\n",
    "not_ans.columns = ['pct-out', 'core-out', 'avg_ngh', 'hub', 'out', 'btwn', 'core', 'ngh', 'deg']\n",
    "\n",
    "ans_total = active[ans_cols]\n",
    "ans_total.columns = ['pct-out', 'core-out', 'avg_ngh', 'hub', 'out', 'btwn', 'core', 'ngh', 'deg']\n",
    "\n",
    "\n",
    "\n",
    "print 'QUESTION ANSWERERS'\n",
    "ans['btwn'] = normalize_column(ans['btwn'])\n",
    "print ans.describe().round(4).loc[['mean', 'std', 'min', 'max']]\n",
    "print ''\n",
    "print 'NOT QUESTION ANSWERERS'\n",
    "not_ans['btwn'] = normalize_column(not_ans['btwn'])\n",
    "print not_ans.describe().round(4).loc[['mean', 'std', 'min', 'max']]\n",
    "print ''\n",
    "print 'ORIGINALS'\n",
    "ans_total['btwn'] = normalize_column(ans_total['btwn'])\n",
    "print ans_total.describe().round(4).loc[['mean', 'std', 'min', 'max']]"
   ]
  },
  {
   "cell_type": "markdown",
   "metadata": {},
   "source": [
    "### LinearSVC for both"
   ]
  },
  {
   "cell_type": "code",
   "execution_count": 323,
   "metadata": {
    "collapsed": false
   },
   "outputs": [
    {
     "name": "stdout",
     "output_type": "stream",
     "text": [
      "ACCURACY: 0.730263157895\n",
      "\n",
      "                     value\n",
      "core-in           1.357760\n",
      "core-out          1.206679\n",
      "eigen_centrality  0.883126\n",
      "pagerank          0.609240\n",
      "authority         0.468953\n",
      "in                0.297901\n",
      "\n",
      "                     value\n",
      "core             -1.258739\n",
      "closeness        -1.027146\n",
      "betweenness      -0.676938\n",
      "out              -0.435626\n",
      "neighborhood     -0.297430\n",
      "percent-out      -0.163047\n",
      "avg_neighborhood -0.161614\n",
      "clustering_coef  -0.096385\n",
      "degree           -0.094268\n",
      "hub              -0.079516\n"
     ]
    }
   ],
   "source": [
    "both_clf = LinearSVC(random_state=0)\n",
    "both_clf.fit(feat_norm, labels['both'])\n",
    "\n",
    "coef = both_clf.coef_.ravel()\n",
    "\n",
    "importance = pd.DataFrame(coef, index=feat_norm.columns, columns=['value'])#, columns=features.columns)\n",
    "\n",
    "pos_class = importance[importance['value'] > 0]\n",
    "neg_class = importance[importance['value'] < 0]\n",
    "\n",
    "print 'ACCURACY:', both_clf.score(feat_norm, labels['both'])\n",
    "print ''\n",
    "print pos_class.sort_values(by='value', ascending=False)\n",
    "print ''\n",
    "print neg_class.sort_values(by='value', ascending=True)"
   ]
  },
  {
   "cell_type": "code",
   "execution_count": 408,
   "metadata": {
    "collapsed": false,
    "scrolled": true
   },
   "outputs": [
    {
     "name": "stdout",
     "output_type": "stream",
     "text": [
      "BOTH\n",
      "      core-in  core-out  eigen_cent  pagerank  authority        in\n",
      "mean   5.6436    5.1980      0.0467    0.0048     0.0304   22.0891\n",
      "std    3.5315    3.0134      0.1385    0.0166     0.1132   56.3472\n",
      "min    1.0000    1.0000      0.0000    0.0002     0.0000    3.0000\n",
      "max   12.0000   10.0000      1.0000    0.1336     1.0000  417.0000\n",
      "\n",
      "NOT BOTH\n",
      "      core-in  core-out  eigen_cent  pagerank  authority       in\n",
      "mean   3.6601    3.6305      0.0104    0.0010     0.0054   7.1281\n",
      "std    2.6491    2.6017      0.0219    0.0016     0.0118   9.9759\n",
      "min    0.0000    0.0000      0.0000    0.0002     0.0000   1.0000\n",
      "max   12.0000   10.0000      0.1733    0.0143     0.1055  92.0000\n",
      "\n",
      "ORIGINALS\n",
      "      core-in  core-out  eigen_cent  pagerank  authority        in\n",
      "mean   4.3191    4.1513      0.0225    0.0022     0.0137   12.0987\n",
      "std    3.1097    2.8384      0.0833    0.0098     0.0668   34.1178\n",
      "min    0.0000    0.0000      0.0000    0.0002     0.0000    1.0000\n",
      "max   12.0000   10.0000      1.0000    0.1336     1.0000  417.0000\n"
     ]
    }
   ],
   "source": [
    "both_cols = ['core-in', 'core-out', 'eigen_centrality', 'pagerank', 'authority', 'in']\n",
    "\n",
    "both = active[active['both'] == True]\n",
    "both = both[both_cols]\n",
    "both.columns = ['core-in', 'core-out', 'eigen_cent', 'pagerank', 'authority', 'in']\n",
    "\n",
    "not_both = active[active['both'] == False]\n",
    "not_both = not_both[both_cols]\n",
    "not_both.columns = ['core-in', 'core-out', 'eigen_cent', 'pagerank', 'authority', 'in']\n",
    "\n",
    "\n",
    "both_total = active[both_cols]\n",
    "both_total.columns = ['core-in', 'core-out', 'eigen_cent', 'pagerank', 'authority', 'in']\n",
    "\n",
    "print 'BOTH'\n",
    "print both.describe().round(4).loc[['mean', 'std', 'min', 'max']]\n",
    "print ''\n",
    "print 'NOT BOTH'\n",
    "print not_both.describe().round(4).loc[['mean', 'std', 'min', 'max']]\n",
    "print ''\n",
    "print 'ORIGINALS'\n",
    "print both_total.describe().round(4).loc[['mean', 'std', 'min', 'max']]"
   ]
  },
  {
   "cell_type": "markdown",
   "metadata": {},
   "source": [
    "### LinearSVC for Organizers Group"
   ]
  },
  {
   "cell_type": "code",
   "execution_count": 312,
   "metadata": {
    "collapsed": false
   },
   "outputs": [
    {
     "name": "stdout",
     "output_type": "stream",
     "text": [
      "ACCURACY: 0.845394736842\n",
      "\n",
      "                    value\n",
      "core-out         1.317718\n",
      "clustering_coef  0.998933\n",
      "closeness        0.866951\n",
      "core             0.841655\n",
      "hub              0.351722\n",
      "core-in          0.328157\n",
      "betweenness      0.095578\n",
      "authority        0.014014\n",
      "pagerank         0.002447\n",
      "\n",
      "                     value\n",
      "avg_neighborhood -0.477735\n",
      "percent-out      -0.388952\n",
      "in               -0.168667\n",
      "neighborhood     -0.126438\n",
      "degree           -0.098358\n",
      "out              -0.045389\n",
      "eigen_centrality -0.000859\n"
     ]
    }
   ],
   "source": [
    "org_clf = LinearSVC(random_state=0)\n",
    "org_clf.fit(feat_norm, labels['org'])\n",
    "\n",
    "coef = org_clf.coef_.ravel()\n",
    "\n",
    "importance = pd.DataFrame(coef, index=ask_vs_ans_features.columns, columns=['value'])#, columns=features.columns)\n",
    "\n",
    "pos_class = importance[importance['value'] > 0]\n",
    "neg_class = importance[importance['value'] < 0]\n",
    "\n",
    "print 'ACCURACY:', org_clf.score(feat_norm, labels['org'])\n",
    "print ''\n",
    "print pos_class.sort_values(by='value', ascending=False)\n",
    "print ''\n",
    "print neg_class.sort_values(by='value', ascending=True)"
   ]
  },
  {
   "cell_type": "code",
   "execution_count": 436,
   "metadata": {
    "collapsed": false
   },
   "outputs": [
    {
     "name": "stdout",
     "output_type": "stream",
     "text": [
      "ORGANIZERS\n",
      "      core-out  clust_coef  closeness     core     hub  core-in  betweenness\n",
      "mean    6.6250      0.7379     0.0520  14.2019  0.0741   6.7308       4.2500\n",
      "std     2.7348      0.3310     0.0006   5.8449  0.1504   3.6075      12.6706\n",
      "min     1.0000      0.0923     0.0501   4.0000  0.0000   1.0000       0.0000\n",
      "max    10.0000      1.8333     0.0537  23.0000  1.0000  12.0000     100.0000\n",
      "\n",
      "NOT ORGANIZERS\n",
      "      core-out  clust_coef  closeness     core     hub  core-in  betweenness\n",
      "mean     2.865      0.7028     0.0508   6.5650  0.0094   3.0650      12.6873\n",
      "std      1.880      0.3307     0.0023   3.0827  0.0154   1.8351      16.6197\n",
      "min      0.000      0.0000     0.0413   2.0000  0.0000   0.0000       0.0000\n",
      "max     10.000      1.8182     0.0530  19.0000  0.0928  11.0000     100.0000\n",
      "\n",
      "ORIGINALS\n",
      "      core-out  clust_coef  closeness     core     hub  core-in  betweenness\n",
      "mean    4.1513      0.7149     0.0512   9.1776  0.0315   4.3191       1.8491\n",
      "std     2.8384      0.3307     0.0019   5.5700  0.0938   3.1097       7.6150\n",
      "min     0.0000      0.0000     0.0413   2.0000  0.0000   0.0000       0.0000\n",
      "max    10.0000      1.8333     0.0537  23.0000  1.0000  12.0000     100.0000\n"
     ]
    },
    {
     "name": "stderr",
     "output_type": "stream",
     "text": [
      "/home/skilfullycurled/anaconda2/lib/python2.7/site-packages/ipykernel/__main__.py:23: SettingWithCopyWarning: \n",
      "A value is trying to be set on a copy of a slice from a DataFrame.\n",
      "Try using .loc[row_indexer,col_indexer] = value instead\n",
      "\n",
      "See the caveats in the documentation: http://pandas.pydata.org/pandas-docs/stable/indexing.html#indexing-view-versus-copy\n"
     ]
    }
   ],
   "source": [
    "org_cols = ['core-out', 'clustering_coef', 'closeness', 'core', 'hub', 'core-in', 'betweenness']\n",
    "\n",
    "org = active[active['org'] == True]\n",
    "org = org[org_cols]\n",
    "org.columns = ['core-out', 'clust_coef', 'closeness', 'core', 'hub', 'core-in', 'betweenness']\n",
    "\n",
    "not_org = active[active['org'] == False]\n",
    "not_org = not_org[org_cols]\n",
    "not_org.columns = ['core-out', 'clust_coef', 'closeness', 'core', 'hub', 'core-in', 'betweenness']\n",
    "\n",
    "org_total = active[org_cols]\n",
    "org_total.columns = ['core-out', 'clust_coef', 'closeness', 'core', 'hub', 'core-in', 'betweenness']\n",
    "\n",
    "print 'ORGANIZERS'\n",
    "org['betweenness'] = normalize_column(org['betweenness'])\n",
    "print org.describe().round(4).loc[['mean', 'std', 'min', 'max']]\n",
    "print ''\n",
    "print 'NOT ORGANIZERS'\n",
    "not_org['betweenness'] = normalize_column(not_org['betweenness'])\n",
    "print not_org.describe().round(4).loc[['mean', 'std', 'min', 'max']]\n",
    "print ''\n",
    "print 'ORIGINALS'\n",
    "org_total['betweenness'] = normalize_column(org_total['betweenness'])\n",
    "print org_total.describe().round(4).loc[['mean', 'std', 'min', 'max']]"
   ]
  },
  {
   "cell_type": "code",
   "execution_count": 411,
   "metadata": {
    "collapsed": true
   },
   "outputs": [],
   "source": [
    "#http://www.pythonexample.com/code/plot-degree-distribution-igraph-python/\n",
    "\n",
    "def plotDegreeDistribution(degrees):\n",
    "    degs = defaultdict(int)\n",
    "    for i in degrees: \n",
    "        degs[i]+=1\n",
    "    items = sorted ( degs.items () )\n",
    "    x, y = np.array(items).T\n",
    "    y = [float(i) / sum(y) for i in y]\n",
    "    plt.figure(figsize=(10,8))\n",
    "    plt.plot(x, y, 'bo')\n",
    "    plt.xscale('log')\n",
    "    plt.yscale('log')\n",
    "    plt.legend(['Degree'])\n",
    "    plt.xlabel('$K$', fontsize = 20)\n",
    "    plt.ylabel('$P_K$', fontsize = 20)\n",
    "    plt.title('$Degree\\,Distribution$', fontsize = 20)\n",
    "    plt.show()"
   ]
  },
  {
   "cell_type": "code",
   "execution_count": 430,
   "metadata": {
    "collapsed": true
   },
   "outputs": [],
   "source": [
    "def normalize_column(col):\n",
    "    result = col.copy()\n",
    "    \n",
    "    max_value = col.max()\n",
    "    min_value = col.min()\n",
    "    \n",
    "    result = ( (col - min_value) / (max_value - min_value) ) * 100\n",
    "    \n",
    "    return result "
   ]
  }
 ],
 "metadata": {
  "kernelspec": {
   "display_name": "Python 2",
   "language": "python",
   "name": "python2"
  },
  "language_info": {
   "codemirror_mode": {
    "name": "ipython",
    "version": 2
   },
   "file_extension": ".py",
   "mimetype": "text/x-python",
   "name": "python",
   "nbconvert_exporter": "python",
   "pygments_lexer": "ipython2",
   "version": "2.7.13"
  }
 },
 "nbformat": 4,
 "nbformat_minor": 2
}
