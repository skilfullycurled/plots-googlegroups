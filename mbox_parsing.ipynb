{
 "cells": [
  {
   "cell_type": "code",
   "execution_count": 474,
   "metadata": {
    "collapsed": true
   },
   "outputs": [],
   "source": [
    "from mailbox import mbox\n",
    "import pandas as pd\n",
    "import os, sys\n",
    "import pytz\n",
    "import time"
   ]
  },
  {
   "cell_type": "code",
   "execution_count": 516,
   "metadata": {
    "collapsed": false
   },
   "outputs": [],
   "source": [
    "# http://engineroom.trackmaven.com/blog/monthly-challenge-natural-language-processing/\n",
    "\n",
    "def get_contents(message, body=None):\n",
    "    if not body:\n",
    "        body = message.get_payload(decode=True)\n",
    "    if len(message):\n",
    "        \n",
    "        contents = {\n",
    "            \"fid\" : message['GGE-Forum-Id'],\n",
    "            \"tid\" : message['GGE-Topic-Id'],\n",
    "            \"mid\" : message['GGE-Message-Id'],\n",
    "            \"date\": message['date'],\n",
    "            \"from\": utils.parseaddr(message['from'])[1],#.replace('<', '').replace('>', '').split(' ')[-1], # GRABS EMAIL ONLY\n",
    "            \"to\": message['to'],\n",
    "            \"cc\" : message['Cc'] or \"None\",\n",
    "            \"bcc\" : message['Bcc'] or \"None\",\n",
    "            \"subject\": message['subject'] or \"None\",\n",
    "            \"body\": body,\n",
    "        }\n",
    "        return contents\n",
    "#         return df.append(contents, ignore_index=True)\n",
    "    \n",
    "# GGE-Forum-Id plots-dev\n",
    "# GGE-Topic-Id KWhkJE0YFh4\n",
    "# GGE-Message-Id RVvisTryAAAJ\n",
    "# Date Mon, 10 Jul 2017 18:02:44 -0500\n",
    "# From Stevie Lewis <stevie@publiclab.org>\n",
    "# To undisclosed-recipients:;\n",
    "# Subject OpenHour tonight!\n",
    "# Body\n",
    "# Cc\n",
    "# Bcc everyone@publiclab.org\n",
    "# Sender steviepubliclab@gmail.com\n",
    "\n",
    "# {'bcc': 'everyone@publiclab.org',\n",
    "#  'body': None,\n",
    "#  'cc': 'None',\n",
    "#  'date': 'Mon, 10 Jul 2017 18:02:44 -0500',\n",
    "#  'fid': 'plots-dev',\n",
    "#  'from': 'stevie@publiclab.org',\n",
    "#  'mid': 'RVvisTryAAAJ',\n",
    "#  'subject': 'OpenHour tonight!',\n",
    "#  'tid': 'KWhkJE0YFh4',\n",
    "#  'to': 'undisclosed-recipients:;'}\n",
    "\n",
    "# contents = get_contents(box[0])\n",
    "# contents"
   ]
  },
  {
   "cell_type": "markdown",
   "metadata": {},
   "source": [
    "### Parse text/plain content"
   ]
  },
  {
   "cell_type": "code",
   "execution_count": 486,
   "metadata": {
    "collapsed": false
   },
   "outputs": [
    {
     "name": "stdout",
     "output_type": "stream",
     "text": [
      "COMPLETED PROCESSING 3099 POSTS FROM GRASSROOTSMAPPING IN 49.97 SEC\n",
      "COMPLETED PROCESSING 214 POSTS FROM LABORATORIOPUBLICO IN 5.3 SEC\n",
      "COMPLETED PROCESSING 226 POSTS FROM PLOTS-AIRQUALITY IN 4.05 SEC\n",
      "COMPLETED PROCESSING 214 POSTS FROM PLOTS-ALPHA IN 3.91 SEC\n",
      "COMPLETED PROCESSING 279 POSTS FROM PLOTS-AMSTERDAM IN 6.53 SEC\n",
      "COMPLETED PROCESSING 330 POSTS FROM PLOTS-BALTIMORE-DC IN 7.61 SEC\n",
      "COMPLETED PROCESSING 1107 POSTS FROM PLOTS-BARNRAISING IN 23.23 SEC\n",
      "COMPLETED PROCESSING 1395 POSTS FROM PLOTS-BOSTON IN 28.81 SEC\n",
      "COMPLETED PROCESSING 161 POSTS FROM PLOTS-BUTTE IN 5.34 SEC\n",
      "COMPLETED PROCESSING 1998 POSTS FROM PLOTS-DEV IN 30.27 SEC\n",
      "COMPLETED PROCESSING 339 POSTS FROM PLOTS-EDUCATION IN 8.01 SEC\n",
      "COMPLETED PROCESSING 1054 POSTS FROM PLOTS-GSOC IN 17.56 SEC\n",
      "COMPLETED PROCESSING 1794 POSTS FROM PLOTS-GULFCOAST IN 35.23 SEC\n",
      "COMPLETED PROCESSING 2276 POSTS FROM PLOTS-INFRARED IN 42.37 SEC\n",
      "COMPLETED PROCESSING 504 POSTS FROM PLOTS-KICKSTARTER IN 12.73 SEC\n",
      "COMPLETED PROCESSING 404 POSTS FROM PLOTS-NORCAL IN 8.63 SEC\n",
      "COMPLETED PROCESSING 1598 POSTS FROM PLOTS-NYC IN 48.9 SEC\n",
      "COMPLETED PROCESSING 5572 POSTS FROM PLOTS-ORGANIZERS IN 120.88 SEC\n",
      "COMPLETED PROCESSING 398 POSTS FROM PLOTS-PHILADELPHIA IN 8.99 SEC\n",
      "COMPLETED PROCESSING 196 POSTS FROM PLOTS-POTENTIOSTAT IN 6.42 SEC\n",
      "COMPLETED PROCESSING 322 POSTS FROM PLOTS-PROVIDENCE IN 7.92 SEC\n",
      "COMPLETED PROCESSING 213 POSTS FROM PLOTS-SKANE IN 6.19 SEC\n",
      "COMPLETED PROCESSING 297 POSTS FROM PLOTS-SOUTHEAST IN 6.64 SEC\n",
      "COMPLETED PROCESSING 3620 POSTS FROM PLOTS-SPECTROMETRY IN 62.27 SEC\n",
      "COMPLETED PROCESSING 1220 POSTS FROM PLOTS-WATERQUALITY IN 23.32 SEC\n",
      "COMPLETED PROCESSING 493 POSTS FROM PUBLIC-LAB-CHICAGO IN 10.37 SEC\n",
      "COMPLETED PROCESSING 11 POSTS FROM PUBLICLAB-JERUSALEM IN 1.27 SEC\n",
      "COMPLETED PROCESSING 465 POSTS FROM PUBLICLAB-LA IN 10.32 SEC\n",
      "COMPLETED PROCESSING 248 POSTS FROM PUBLICLAB-MIDWEST IN 5.87 SEC\n",
      "COMPLETED PROCESSING 2 POSTS FROM PUBLICLAB-MOUNTAINWEST IN 0.02 SEC\n",
      "COMPLETED PROCESSING 89 POSTS FROM PUBLICLAB-NORTHEAST IN 1.63 SEC\n",
      "COMPLETED PROCESSING 42 POSTS FROM PUBLIC-LAB-NORTHWEST IN 0.85 SEC\n",
      "COMPLETED PROCESSING 5314 POSTS FROM PUBLICLABORATORY IN 84.48 SEC\n",
      "COMPLETED PROCESSING 12 POSTS FROM PUBLIC-LAB-VANCOUVER IN 0.22 SEC\n",
      "COMPLETED PROCESSING 242 POSTS FROM PUBLIC-LAB-WRITING-GROUP IN 7.18 SEC\n",
      "COMPLETED PROCESSING 86 POSTS FROM PUBLICLAB-PORTUGUES IN 1.97 SEC\n"
     ]
    }
   ],
   "source": [
    "googlegroups = [group.split('.')[0] for group in os.listdir('../data/mbox/')]\n",
    "\n",
    "for group in googlegroups:\n",
    "    \n",
    "    try:\n",
    "        start = time.time()\n",
    "    \n",
    "        box = mbox('../data/mbox/' + group + '.mbox')\n",
    "\n",
    "        cols = [\"fid\", \"tid\", \"mid\", \"date\", \"from\", \"to\", \"cc\", \"bcc\", \"subject\", \"body\"]\n",
    "        messages = pd.DataFrame(columns=cols)\n",
    "\n",
    "        for message in box:\n",
    "            for part in email_iters.typed_subpart_iterator(message, 'text', 'plain'):\n",
    "                content = get_contents(message, part.get_payload(decode=True))\n",
    "                messages = messages.append(content, ignore_index=True)\n",
    "\n",
    "        messages['date'] = pd.to_datetime(messages['date'], utc=True)\n",
    "\n",
    "        messages.to_csv('../data/temp/' + group + '.csv', index=False)\n",
    "        \n",
    "        end = time.time()\n",
    "\n",
    "        print 'COMPLETED PROCESSING', messages.shape[0], 'POSTS FROM', group.upper(), 'IN', round(end - start, 2), 'SEC'\n",
    "        \n",
    "    except:\n",
    "        \n",
    "        print 'ERROR PROCESSING', group.upper()"
   ]
  },
  {
   "cell_type": "code",
   "execution_count": 536,
   "metadata": {
    "collapsed": false
   },
   "outputs": [
    {
     "data": {
      "text/html": [
       "<div>\n",
       "<table border=\"1\" class=\"dataframe\">\n",
       "  <thead>\n",
       "    <tr style=\"text-align: right;\">\n",
       "      <th></th>\n",
       "      <th>fid</th>\n",
       "      <th>tid</th>\n",
       "      <th>mid</th>\n",
       "      <th>pos</th>\n",
       "      <th>date</th>\n",
       "      <th>from</th>\n",
       "      <th>to</th>\n",
       "      <th>cc</th>\n",
       "      <th>bcc</th>\n",
       "      <th>subject</th>\n",
       "      <th>body</th>\n",
       "    </tr>\n",
       "  </thead>\n",
       "  <tbody>\n",
       "    <tr>\n",
       "      <th>0</th>\n",
       "      <td>plots-dev</td>\n",
       "      <td>-F-4IslRyN0</td>\n",
       "      <td>sl6C1D7McdkJ</td>\n",
       "      <td>0</td>\n",
       "      <td>2015-05-13 21:00:28</td>\n",
       "      <td>shannon@publiclab.org</td>\n",
       "      <td>\"shannon@publiclab.org\" &lt;shannon@publiclab.org&gt;</td>\n",
       "      <td>None</td>\n",
       "      <td>everyone@publiclab.org</td>\n",
       "      <td>Applications open for Public Lab Sprint Fellow...</td>\n",
       "      <td>Hi everyone,\\n\\nWe're excited to announce the ...</td>\n",
       "    </tr>\n",
       "    <tr>\n",
       "      <th>1</th>\n",
       "      <td>plots-dev</td>\n",
       "      <td>-G0rClsP4go</td>\n",
       "      <td>yURRQwf0CAAJ</td>\n",
       "      <td>0</td>\n",
       "      <td>2017-05-31 19:59:44</td>\n",
       "      <td>liz@publiclab.org</td>\n",
       "      <td>\"plots-dev@googlegroups.com\" &lt;plots-dev@google...</td>\n",
       "      <td>\"Benj. N. Sugar\" &lt;bsugar@crld.in&gt;</td>\n",
       "      <td>None</td>\n",
       "      <td>Scraping a member list out of a googlegroup?</td>\n",
       "      <td>hi folks,\\nSo, some good news that also comes ...</td>\n",
       "    </tr>\n",
       "    <tr>\n",
       "      <th>2</th>\n",
       "      <td>plots-dev</td>\n",
       "      <td>-G0rClsP4go</td>\n",
       "      <td>pCwKdCkuCQAJ</td>\n",
       "      <td>1</td>\n",
       "      <td>2017-06-01 13:45:00</td>\n",
       "      <td>bsugar@crld.in</td>\n",
       "      <td>Liz Barry &lt;liz@publiclab.org&gt;</td>\n",
       "      <td>\"plots-dev@googlegroups.com\" &lt;plots-dev@google...</td>\n",
       "      <td>None</td>\n",
       "      <td>Re: Scraping a member list out of a googlegroup?</td>\n",
       "      <td>&gt;From the GG side, I'll look into it but I dou...</td>\n",
       "    </tr>\n",
       "    <tr>\n",
       "      <th>3</th>\n",
       "      <td>plots-dev</td>\n",
       "      <td>-G0rClsP4go</td>\n",
       "      <td>YHEHJSI4CQAJ</td>\n",
       "      <td>2</td>\n",
       "      <td>2017-06-01 16:47:47</td>\n",
       "      <td>jeff@publiclab.org</td>\n",
       "      <td>\"Benjamin N. Sugar\" &lt;bsugar@crld.in&gt;</td>\n",
       "      <td>Liz Barry &lt;liz@publiclab.org&gt;,\\n\\t\"plots-dev@g...</td>\n",
       "      <td>None</td>\n",
       "      <td>Re: [plots-dev] Re: Scraping a member list out...</td>\n",
       "      <td>I think there may be a way via their various A...</td>\n",
       "    </tr>\n",
       "    <tr>\n",
       "      <th>4</th>\n",
       "      <td>plots-dev</td>\n",
       "      <td>-G0rClsP4go</td>\n",
       "      <td>5MfnETM4CQAJ</td>\n",
       "      <td>3</td>\n",
       "      <td>2017-06-01 16:49:00</td>\n",
       "      <td>jeff@publiclab.org</td>\n",
       "      <td>\"Benjamin N. Sugar\" &lt;bsugar@crld.in&gt;</td>\n",
       "      <td>Liz Barry &lt;liz@publiclab.org&gt;,\\n\\t\"plots-dev@g...</td>\n",
       "      <td>None</td>\n",
       "      <td>Re: [plots-dev] Re: Scraping a member list out...</td>\n",
       "      <td>possibly via\\nhttps://developers.google.com/ad...</td>\n",
       "    </tr>\n",
       "  </tbody>\n",
       "</table>\n",
       "</div>"
      ],
      "text/plain": [
       "         fid          tid           mid  pos                date  \\\n",
       "0  plots-dev  -F-4IslRyN0  sl6C1D7McdkJ    0 2015-05-13 21:00:28   \n",
       "1  plots-dev  -G0rClsP4go  yURRQwf0CAAJ    0 2017-05-31 19:59:44   \n",
       "2  plots-dev  -G0rClsP4go  pCwKdCkuCQAJ    1 2017-06-01 13:45:00   \n",
       "3  plots-dev  -G0rClsP4go  YHEHJSI4CQAJ    2 2017-06-01 16:47:47   \n",
       "4  plots-dev  -G0rClsP4go  5MfnETM4CQAJ    3 2017-06-01 16:49:00   \n",
       "\n",
       "                    from                                                 to  \\\n",
       "0  shannon@publiclab.org    \"shannon@publiclab.org\" <shannon@publiclab.org>   \n",
       "1      liz@publiclab.org  \"plots-dev@googlegroups.com\" <plots-dev@google...   \n",
       "2         bsugar@crld.in                      Liz Barry <liz@publiclab.org>   \n",
       "3     jeff@publiclab.org               \"Benjamin N. Sugar\" <bsugar@crld.in>   \n",
       "4     jeff@publiclab.org               \"Benjamin N. Sugar\" <bsugar@crld.in>   \n",
       "\n",
       "                                                  cc                     bcc  \\\n",
       "0                                               None  everyone@publiclab.org   \n",
       "1                  \"Benj. N. Sugar\" <bsugar@crld.in>                    None   \n",
       "2  \"plots-dev@googlegroups.com\" <plots-dev@google...                    None   \n",
       "3  Liz Barry <liz@publiclab.org>,\\n\\t\"plots-dev@g...                    None   \n",
       "4  Liz Barry <liz@publiclab.org>,\\n\\t\"plots-dev@g...                    None   \n",
       "\n",
       "                                             subject  \\\n",
       "0  Applications open for Public Lab Sprint Fellow...   \n",
       "1       Scraping a member list out of a googlegroup?   \n",
       "2   Re: Scraping a member list out of a googlegroup?   \n",
       "3  Re: [plots-dev] Re: Scraping a member list out...   \n",
       "4  Re: [plots-dev] Re: Scraping a member list out...   \n",
       "\n",
       "                                                body  \n",
       "0  Hi everyone,\\n\\nWe're excited to announce the ...  \n",
       "1  hi folks,\\nSo, some good news that also comes ...  \n",
       "2  >From the GG side, I'll look into it but I dou...  \n",
       "3  I think there may be a way via their various A...  \n",
       "4  possibly via\\nhttps://developers.google.com/ad...  "
      ]
     },
     "execution_count": 536,
     "metadata": {},
     "output_type": "execute_result"
    }
   ],
   "source": [
    "plots_dev = pd.read_csv('../data/posts/' + 'plots-dev' + '-posts.csv', parse_dates=['date'], infer_datetime_format=True)\n",
    "plots_dev.head()"
   ]
  },
  {
   "cell_type": "code",
   "execution_count": 545,
   "metadata": {
    "collapsed": false
   },
   "outputs": [
    {
     "data": {
      "text/html": [
       "<div>\n",
       "<table border=\"1\" class=\"dataframe\">\n",
       "  <thead>\n",
       "    <tr style=\"text-align: right;\">\n",
       "      <th></th>\n",
       "      <th>user</th>\n",
       "    </tr>\n",
       "  </thead>\n",
       "  <tbody>\n",
       "    <tr>\n",
       "      <th>0</th>\n",
       "      <td>shannon@publiclab.org</td>\n",
       "    </tr>\n",
       "    <tr>\n",
       "      <th>1</th>\n",
       "      <td>liz@publiclab.org</td>\n",
       "    </tr>\n",
       "    <tr>\n",
       "      <th>2</th>\n",
       "      <td>bsugar@crld.in</td>\n",
       "    </tr>\n",
       "    <tr>\n",
       "      <th>3</th>\n",
       "      <td>jeff@publiclab.org</td>\n",
       "    </tr>\n",
       "    <tr>\n",
       "      <th>4</th>\n",
       "      <td>btbonval@gmail.com</td>\n",
       "    </tr>\n",
       "  </tbody>\n",
       "</table>\n",
       "</div>"
      ],
      "text/plain": [
       "                    user\n",
       "0  shannon@publiclab.org\n",
       "1      liz@publiclab.org\n",
       "2         bsugar@crld.in\n",
       "3     jeff@publiclab.org\n",
       "4     btbonval@gmail.com"
      ]
     },
     "execution_count": 545,
     "metadata": {},
     "output_type": "execute_result"
    }
   ],
   "source": [
    "members = pd.DataFrame(plots_dev['from'].unique(), columns=['user'])\n",
    "members.head()"
   ]
  },
  {
   "cell_type": "code",
   "execution_count": 553,
   "metadata": {
    "collapsed": false
   },
   "outputs": [
    {
     "data": {
      "text/html": [
       "<div>\n",
       "<table border=\"1\" class=\"dataframe\">\n",
       "  <thead>\n",
       "    <tr style=\"text-align: right;\">\n",
       "      <th></th>\n",
       "      <th>user</th>\n",
       "      <th>op</th>\n",
       "    </tr>\n",
       "  </thead>\n",
       "  <tbody>\n",
       "    <tr>\n",
       "      <th>0</th>\n",
       "      <td>shannon@publiclab.org</td>\n",
       "      <td>34</td>\n",
       "    </tr>\n",
       "    <tr>\n",
       "      <th>1</th>\n",
       "      <td>liz@publiclab.org</td>\n",
       "      <td>47</td>\n",
       "    </tr>\n",
       "    <tr>\n",
       "      <th>2</th>\n",
       "      <td>bsugar@crld.in</td>\n",
       "      <td>0</td>\n",
       "    </tr>\n",
       "    <tr>\n",
       "      <th>3</th>\n",
       "      <td>jeff@publiclab.org</td>\n",
       "      <td>258</td>\n",
       "    </tr>\n",
       "    <tr>\n",
       "      <th>4</th>\n",
       "      <td>btbonval@gmail.com</td>\n",
       "      <td>12</td>\n",
       "    </tr>\n",
       "  </tbody>\n",
       "</table>\n",
       "</div>"
      ],
      "text/plain": [
       "                    user   op\n",
       "0  shannon@publiclab.org   34\n",
       "1      liz@publiclab.org   47\n",
       "2         bsugar@crld.in    0\n",
       "3     jeff@publiclab.org  258\n",
       "4     btbonval@gmail.com   12"
      ]
     },
     "execution_count": 553,
     "metadata": {},
     "output_type": "execute_result"
    }
   ],
   "source": [
    "members['op'] = members['user'].apply(get_op_count)\n",
    "members.head()"
   ]
  },
  {
   "cell_type": "code",
   "execution_count": 556,
   "metadata": {
    "collapsed": false
   },
   "outputs": [
    {
     "data": {
      "text/html": [
       "<div>\n",
       "<table border=\"1\" class=\"dataframe\">\n",
       "  <thead>\n",
       "    <tr style=\"text-align: right;\">\n",
       "      <th></th>\n",
       "      <th>user</th>\n",
       "      <th>op</th>\n",
       "      <th>posts</th>\n",
       "    </tr>\n",
       "  </thead>\n",
       "  <tbody>\n",
       "    <tr>\n",
       "      <th>0</th>\n",
       "      <td>shannon@publiclab.org</td>\n",
       "      <td>34</td>\n",
       "      <td>36</td>\n",
       "    </tr>\n",
       "    <tr>\n",
       "      <th>1</th>\n",
       "      <td>liz@publiclab.org</td>\n",
       "      <td>47</td>\n",
       "      <td>118</td>\n",
       "    </tr>\n",
       "    <tr>\n",
       "      <th>2</th>\n",
       "      <td>bsugar@crld.in</td>\n",
       "      <td>0</td>\n",
       "      <td>5</td>\n",
       "    </tr>\n",
       "    <tr>\n",
       "      <th>3</th>\n",
       "      <td>jeff@publiclab.org</td>\n",
       "      <td>258</td>\n",
       "      <td>745</td>\n",
       "    </tr>\n",
       "    <tr>\n",
       "      <th>4</th>\n",
       "      <td>btbonval@gmail.com</td>\n",
       "      <td>12</td>\n",
       "      <td>112</td>\n",
       "    </tr>\n",
       "  </tbody>\n",
       "</table>\n",
       "</div>"
      ],
      "text/plain": [
       "                    user   op  posts\n",
       "0  shannon@publiclab.org   34     36\n",
       "1      liz@publiclab.org   47    118\n",
       "2         bsugar@crld.in    0      5\n",
       "3     jeff@publiclab.org  258    745\n",
       "4     btbonval@gmail.com   12    112"
      ]
     },
     "execution_count": 556,
     "metadata": {},
     "output_type": "execute_result"
    }
   ],
   "source": [
    "members['posts'] = members['user'].apply(get_total_posts)\n",
    "members.head()"
   ]
  },
  {
   "cell_type": "code",
   "execution_count": 557,
   "metadata": {
    "collapsed": false
   },
   "outputs": [
    {
     "data": {
      "text/html": [
       "<div>\n",
       "<table border=\"1\" class=\"dataframe\">\n",
       "  <thead>\n",
       "    <tr style=\"text-align: right;\">\n",
       "      <th></th>\n",
       "      <th>user</th>\n",
       "      <th>op</th>\n",
       "      <th>posts</th>\n",
       "      <th>replies</th>\n",
       "    </tr>\n",
       "  </thead>\n",
       "  <tbody>\n",
       "    <tr>\n",
       "      <th>0</th>\n",
       "      <td>shannon@publiclab.org</td>\n",
       "      <td>34</td>\n",
       "      <td>36</td>\n",
       "      <td>2</td>\n",
       "    </tr>\n",
       "    <tr>\n",
       "      <th>1</th>\n",
       "      <td>liz@publiclab.org</td>\n",
       "      <td>47</td>\n",
       "      <td>118</td>\n",
       "      <td>71</td>\n",
       "    </tr>\n",
       "    <tr>\n",
       "      <th>2</th>\n",
       "      <td>bsugar@crld.in</td>\n",
       "      <td>0</td>\n",
       "      <td>5</td>\n",
       "      <td>5</td>\n",
       "    </tr>\n",
       "    <tr>\n",
       "      <th>3</th>\n",
       "      <td>jeff@publiclab.org</td>\n",
       "      <td>258</td>\n",
       "      <td>745</td>\n",
       "      <td>487</td>\n",
       "    </tr>\n",
       "    <tr>\n",
       "      <th>4</th>\n",
       "      <td>btbonval@gmail.com</td>\n",
       "      <td>12</td>\n",
       "      <td>112</td>\n",
       "      <td>100</td>\n",
       "    </tr>\n",
       "  </tbody>\n",
       "</table>\n",
       "</div>"
      ],
      "text/plain": [
       "                    user   op  posts  replies\n",
       "0  shannon@publiclab.org   34     36        2\n",
       "1      liz@publiclab.org   47    118       71\n",
       "2         bsugar@crld.in    0      5        5\n",
       "3     jeff@publiclab.org  258    745      487\n",
       "4     btbonval@gmail.com   12    112      100"
      ]
     },
     "execution_count": 557,
     "metadata": {},
     "output_type": "execute_result"
    }
   ],
   "source": [
    "members['replies'] = members['posts'] - members['op']\n",
    "members.head()"
   ]
  },
  {
   "cell_type": "code",
   "execution_count": 551,
   "metadata": {
    "collapsed": true
   },
   "outputs": [],
   "source": [
    "def get_op_count(user):\n",
    "    \n",
    "    which_user = plots_dev['from'] == user\n",
    "    which_position = plots_dev['pos'] == 0\n",
    "\n",
    "    return plots_dev[(which_user & which_position)].count()[0]"
   ]
  },
  {
   "cell_type": "code",
   "execution_count": 555,
   "metadata": {
    "collapsed": true
   },
   "outputs": [],
   "source": [
    "def get_total_posts(user):\n",
    "    \n",
    "    which_user = plots_dev['from'] == user\n",
    "    \n",
    "    return plots_dev[(which_user)].count()[0]"
   ]
  },
  {
   "cell_type": "code",
   "execution_count": 554,
   "metadata": {
    "collapsed": false
   },
   "outputs": [
    {
     "data": {
      "text/plain": [
       "118"
      ]
     },
     "execution_count": 554,
     "metadata": {},
     "output_type": "execute_result"
    }
   ],
   "source": [
    "user = plots_dev['from'] == 'liz@publiclab.org'\n",
    "position = plots_dev['pos'] == 0\n",
    "\n",
    "plots_dev[(user)].count()[0]\n",
    "# plots_dev[plots_dev['from'] == 'liz@publiclab.org'].head()"
   ]
  },
  {
   "cell_type": "markdown",
   "metadata": {},
   "source": [
    "### Add thread position"
   ]
  },
  {
   "cell_type": "code",
   "execution_count": 498,
   "metadata": {
    "collapsed": false
   },
   "outputs": [
    {
     "name": "stdout",
     "output_type": "stream",
     "text": [
      "COMPLETED PROCESSING 226 POSTS FROM PLOTS-AIRQUALITY IN 0.74 SEC\n",
      "COMPLETED PROCESSING 214 POSTS FROM PLOTS-ALPHA IN 0.45 SEC\n",
      "COMPLETED PROCESSING 3099 POSTS FROM GRASSROOTSMAPPING IN 8.54 SEC\n",
      "COMPLETED PROCESSING 214 POSTS FROM LABORATORIOPUBLICO IN 0.56 SEC\n",
      "COMPLETED PROCESSING 279 POSTS FROM PLOTS-AMSTERDAM IN 1.1 SEC\n",
      "COMPLETED PROCESSING 330 POSTS FROM PLOTS-BALTIMORE-DC IN 1.26 SEC\n",
      "COMPLETED PROCESSING 1107 POSTS FROM PLOTS-BARNRAISING IN 1.81 SEC\n",
      "COMPLETED PROCESSING 1395 POSTS FROM PLOTS-BOSTON IN 3.55 SEC\n",
      "COMPLETED PROCESSING 161 POSTS FROM PLOTS-BUTTE IN 0.86 SEC\n",
      "COMPLETED PROCESSING 1998 POSTS FROM PLOTS-DEV IN 3.91 SEC\n",
      "COMPLETED PROCESSING 339 POSTS FROM PLOTS-EDUCATION IN 1.33 SEC\n",
      "COMPLETED PROCESSING 1054 POSTS FROM PLOTS-GSOC IN 1.48 SEC\n",
      "COMPLETED PROCESSING 1794 POSTS FROM PLOTS-GULFCOAST IN 4.88 SEC\n",
      "COMPLETED PROCESSING 2276 POSTS FROM PLOTS-INFRARED IN 5.27 SEC\n",
      "COMPLETED PROCESSING 504 POSTS FROM PLOTS-KICKSTARTER IN 1.34 SEC\n",
      "COMPLETED PROCESSING 404 POSTS FROM PLOTS-NORCAL IN 1.84 SEC\n",
      "COMPLETED PROCESSING 1598 POSTS FROM PLOTS-NYC IN 5.07 SEC\n",
      "COMPLETED PROCESSING 5572 POSTS FROM PLOTS-ORGANIZERS IN 12.69 SEC\n",
      "COMPLETED PROCESSING 398 POSTS FROM PLOTS-PHILADELPHIA IN 1.97 SEC\n",
      "COMPLETED PROCESSING 196 POSTS FROM PLOTS-POTENTIOSTAT IN 1.17 SEC\n",
      "COMPLETED PROCESSING 322 POSTS FROM PLOTS-PROVIDENCE IN 1.71 SEC\n",
      "COMPLETED PROCESSING 213 POSTS FROM PLOTS-SKANE IN 1.11 SEC\n",
      "COMPLETED PROCESSING 297 POSTS FROM PLOTS-SOUTHEAST IN 1.46 SEC\n",
      "COMPLETED PROCESSING 3620 POSTS FROM PLOTS-SPECTROMETRY IN 9.53 SEC\n",
      "COMPLETED PROCESSING 1220 POSTS FROM PLOTS-WATERQUALITY IN 3.56 SEC\n",
      "COMPLETED PROCESSING 493 POSTS FROM PUBLIC-LAB-CHICAGO IN 1.51 SEC\n",
      "COMPLETED PROCESSING 11 POSTS FROM PUBLICLAB-JERUSALEM IN 0.12 SEC\n",
      "COMPLETED PROCESSING 465 POSTS FROM PUBLICLAB-LA IN 1.49 SEC\n",
      "COMPLETED PROCESSING 248 POSTS FROM PUBLICLAB-MIDWEST IN 0.74 SEC\n",
      "COMPLETED PROCESSING 2 POSTS FROM PUBLICLAB-MOUNTAINWEST IN 0.11 SEC\n",
      "COMPLETED PROCESSING 89 POSTS FROM PUBLICLAB-NORTHEAST IN 0.29 SEC\n",
      "COMPLETED PROCESSING 42 POSTS FROM PUBLIC-LAB-NORTHWEST IN 0.26 SEC\n",
      "COMPLETED PROCESSING 5314 POSTS FROM PUBLICLABORATORY IN 13.23 SEC\n",
      "COMPLETED PROCESSING 12 POSTS FROM PUBLIC-LAB-VANCOUVER IN 0.16 SEC\n",
      "COMPLETED PROCESSING 242 POSTS FROM PUBLIC-LAB-WRITING-GROUP IN 0.97 SEC\n",
      "COMPLETED PROCESSING 86 POSTS FROM PUBLICLAB-PORTUGUES IN 0.27 SEC\n"
     ]
    }
   ],
   "source": [
    "googlegroups = [group.split('.')[0] for group in os.listdir('../data/temp/')]\n",
    "\n",
    "for group in googlegroups:\n",
    "    \n",
    "    try:\n",
    "        start = time.time()\n",
    "        \n",
    "        messages = pd.read_csv('../data/temp/' + group + '.csv', parse_dates=['date'], infer_datetime_format=True)\n",
    "       \n",
    "        cols = [\"fid\", \"tid\", \"mid\", \"pos\", \"date\", \"from\", \"to\", \"cc\", \"bcc\", \"subject\", \"body\"]\n",
    "        with_pos = pd.DataFrame(columns=cols)\n",
    "\n",
    "        threads = messages.groupby(['tid'])\n",
    "\n",
    "        for index, thread in threads:\n",
    "\n",
    "            posts = thread.sort_values(by='date')\n",
    "            posts['pos'] = range(len(posts))\n",
    "\n",
    "            with_pos = with_pos.append(posts, ignore_index=True)\n",
    "            \n",
    "        with_pos = with_pos[cols]\n",
    "        with_pos['pos'] = with_pos['pos'].astype(int)\n",
    "        \n",
    "        with_pos.to_csv('../data/posts/' + group + '-posts.csv', index=False)\n",
    "        \n",
    "        end = time.time()\n",
    "\n",
    "        print 'COMPLETED PROCESSING', messages.shape[0], 'POSTS FROM', group.upper(), 'IN', round(end - start, 2), 'SEC'\n",
    "        \n",
    "    except:\n",
    "        \n",
    "        print 'ERROR PROCESSING', group.upper()"
   ]
  },
  {
   "cell_type": "markdown",
   "metadata": {},
   "source": [
    "### Create edgelist"
   ]
  },
  {
   "cell_type": "code",
   "execution_count": 515,
   "metadata": {
    "collapsed": false
   },
   "outputs": [
    {
     "name": "stdout",
     "output_type": "stream",
     "text": [
      "COMPLETED PROCESSING 101 EDGES EXCLUDING 76 SINGLETONS FROM PLOTS-AIRQUALITY IN 0.79 SEC\n",
      "COMPLETED PROCESSING 168 EDGES EXCLUDING 18 SINGLETONS FROM PLOTS-ALPHA IN 1.26 SEC\n",
      "COMPLETED PROCESSING 1754 EDGES EXCLUDING 785 SINGLETONS FROM GRASSROOTSMAPPING IN 13.02 SEC\n",
      "COMPLETED PROCESSING 136 EDGES EXCLUDING 38 SINGLETONS FROM LABORATORIOPUBLICO IN 1.04 SEC\n",
      "COMPLETED PROCESSING 59 EDGES EXCLUDING 186 SINGLETONS FROM PLOTS-AMSTERDAM IN 0.49 SEC\n",
      "COMPLETED PROCESSING 88 EDGES EXCLUDING 197 SINGLETONS FROM PLOTS-BALTIMORE-DC IN 0.74 SEC\n",
      "COMPLETED PROCESSING 828 EDGES EXCLUDING 112 SINGLETONS FROM PLOTS-BARNRAISING IN 6.31 SEC\n",
      "COMPLETED PROCESSING 796 EDGES EXCLUDING 382 SINGLETONS FROM PLOTS-BOSTON IN 6.04 SEC\n",
      "COMPLETED PROCESSING 22 EDGES EXCLUDING 120 SINGLETONS FROM PLOTS-BUTTE IN 0.21 SEC\n",
      "COMPLETED PROCESSING 1351 EDGES EXCLUDING 321 SINGLETONS FROM PLOTS-DEV IN 9.99 SEC\n",
      "COMPLETED PROCESSING 98 EDGES EXCLUDING 202 SINGLETONS FROM PLOTS-EDUCATION IN 0.74 SEC\n",
      "COMPLETED PROCESSING 867 EDGES EXCLUDING 71 SINGLETONS FROM PLOTS-GSOC IN 6.19 SEC\n",
      "COMPLETED PROCESSING 909 EDGES EXCLUDING 593 SINGLETONS FROM PLOTS-GULFCOAST IN 6.92 SEC\n",
      "COMPLETED PROCESSING 1580 EDGES EXCLUDING 358 SINGLETONS FROM PLOTS-INFRARED IN 12.36 SEC\n",
      "COMPLETED PROCESSING 391 EDGES EXCLUDING 31 SINGLETONS FROM PLOTS-KICKSTARTER IN 2.88 SEC\n",
      "COMPLETED PROCESSING 130 EDGES EXCLUDING 226 SINGLETONS FROM PLOTS-NORCAL IN 1.0 SEC\n",
      "COMPLETED PROCESSING 727 EDGES EXCLUDING 620 SINGLETONS FROM PLOTS-NYC IN 6.93 SEC\n",
      "COMPLETED PROCESSING 3843 EDGES EXCLUDING 804 SINGLETONS FROM PLOTS-ORGANIZERS IN 31.06 SEC\n",
      "COMPLETED PROCESSING 135 EDGES EXCLUDING 207 SINGLETONS FROM PLOTS-PHILADELPHIA IN 1.11 SEC\n",
      "COMPLETED PROCESSING 34 EDGES EXCLUDING 139 SINGLETONS FROM PLOTS-POTENTIOSTAT IN 0.32 SEC\n",
      "COMPLETED PROCESSING 87 EDGES EXCLUDING 194 SINGLETONS FROM PLOTS-PROVIDENCE IN 0.74 SEC\n",
      "COMPLETED PROCESSING 21 EDGES EXCLUDING 175 SINGLETONS FROM PLOTS-SKANE IN 0.24 SEC\n",
      "COMPLETED PROCESSING 84 EDGES EXCLUDING 177 SINGLETONS FROM PLOTS-SOUTHEAST IN 0.74 SEC\n",
      "COMPLETED PROCESSING 2491 EDGES EXCLUDING 566 SINGLETONS FROM PLOTS-SPECTROMETRY IN 20.49 SEC\n",
      "COMPLETED PROCESSING 751 EDGES EXCLUDING 281 SINGLETONS FROM PLOTS-WATERQUALITY IN 5.97 SEC\n",
      "COMPLETED PROCESSING 245 EDGES EXCLUDING 180 SINGLETONS FROM PUBLIC-LAB-CHICAGO IN 1.78 SEC\n",
      "COMPLETED PROCESSING 8 EDGES EXCLUDING 1 SINGLETONS FROM PUBLICLAB-JERUSALEM IN 0.07 SEC\n",
      "COMPLETED PROCESSING 193 EDGES EXCLUDING 207 SINGLETONS FROM PUBLICLAB-LA IN 1.42 SEC\n",
      "COMPLETED PROCESSING 157 EDGES EXCLUDING 50 SINGLETONS FROM PUBLICLAB-MIDWEST IN 1.14 SEC\n",
      "COMPLETED PROCESSING 1 EDGES EXCLUDING 0 SINGLETONS FROM PUBLICLAB-MOUNTAINWEST IN 0.02 SEC\n",
      "COMPLETED PROCESSING 57 EDGES EXCLUDING 16 SINGLETONS FROM PUBLICLAB-NORTHEAST IN 0.41 SEC\n",
      "COMPLETED PROCESSING 18 EDGES EXCLUDING 19 SINGLETONS FROM PUBLIC-LAB-NORTHWEST IN 0.13 SEC\n",
      "COMPLETED PROCESSING 3346 EDGES EXCLUDING 1043 SINGLETONS FROM PUBLICLABORATORY IN 27.11 SEC\n",
      "COMPLETED PROCESSING 1 EDGES EXCLUDING 10 SINGLETONS FROM PUBLIC-LAB-VANCOUVER IN 0.02 SEC\n",
      "COMPLETED PROCESSING 56 EDGES EXCLUDING 157 SINGLETONS FROM PUBLIC-LAB-WRITING-GROUP IN 0.48 SEC\n",
      "COMPLETED PROCESSING 53 EDGES EXCLUDING 16 SINGLETONS FROM PUBLICLAB-PORTUGUES IN 0.45 SEC\n"
     ]
    }
   ],
   "source": [
    "googlegroups = [group.split('.')[0] for group in os.listdir('../data/temp/')]\n",
    "\n",
    "for group in googlegroups:\n",
    "    \n",
    "    try:\n",
    "        start = time.time()\n",
    "        \n",
    "        messages = pd.read_csv('../data/posts/' + group + '-posts.csv', parse_dates=['date'], infer_datetime_format=True)\n",
    "        messages.drop('pos', 1, inplace=True)\n",
    "        \n",
    "        cols = [\"fid\", \"tid\", \"mid\", \"date\", \"source\", \"target\"]\n",
    "        edge_list = pd.DataFrame(columns=cols)\n",
    "        \n",
    "        singletons = 0\n",
    "        threads = messages.groupby(['tid'])\n",
    "        \n",
    "        for index, thread in threads:\n",
    "    \n",
    "            if len(thread) > 1:\n",
    "\n",
    "                posts = thread.sort_values(by='date')\n",
    "\n",
    "                op = posts.iloc[0]\n",
    "                responses = posts.iloc[1:]\n",
    "\n",
    "                for response in responses.iterrows():\n",
    "\n",
    "                    edge = response[1][:4] # we still want columns fid, tid, mid, and date\n",
    "                    edge['source'] = response[1]['from']\n",
    "                    edge['target'] = op['from']\n",
    "\n",
    "                    edge_list = edge_list.append(edge, ignore_index=True)\n",
    "            else:\n",
    "\n",
    "                singletons += 1\n",
    "                \n",
    "        edge_list.to_csv('../data/edges/' + group + '-edges.csv', index=False)\n",
    "        \n",
    "        end = time.time()\n",
    "        \n",
    "        print 'COMPLETED PROCESSING', edge_list.shape[0], 'EDGES EXCLUDING', singletons, 'SINGLETONS FROM', group.upper(), 'IN', round(end - start, 2), 'SEC'\n",
    "        \n",
    "    except:\n",
    "        \n",
    "        print 'ERROR PROCESSING', group.upper()"
   ]
  }
 ],
 "metadata": {
  "kernelspec": {
   "display_name": "Python 2",
   "language": "python",
   "name": "python2"
  },
  "language_info": {
   "codemirror_mode": {
    "name": "ipython",
    "version": 2
   },
   "file_extension": ".py",
   "mimetype": "text/x-python",
   "name": "python",
   "nbconvert_exporter": "python",
   "pygments_lexer": "ipython2",
   "version": "2.7.13"
  }
 },
 "nbformat": 4,
 "nbformat_minor": 2
}
